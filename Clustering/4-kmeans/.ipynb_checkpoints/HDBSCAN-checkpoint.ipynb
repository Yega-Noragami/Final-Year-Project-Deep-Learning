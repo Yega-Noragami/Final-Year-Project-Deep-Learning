{
 "cells": [
  {
   "cell_type": "markdown",
   "metadata": {},
   "source": [
    "# Import necessary Libraries "
   ]
  },
  {
   "cell_type": "code",
   "execution_count": null,
   "metadata": {},
   "outputs": [],
   "source": [
    "import pandas as pd\n",
    "import numpy as np\n",
    "import matplotlib.pyplot as plt\n",
    "from sklearn.cluster import KMeans\n",
    "import numpy as np\n",
    "import seaborn as sns\n",
    "import sklearn.datasets as data\n",
    "import csv\n",
    "\n",
    "#HDBSCAN\n",
    "\n",
    "import hdbscan"
   ]
  },
  {
   "cell_type": "markdown",
   "metadata": {},
   "source": [
    "# Import the data and visualise it "
   ]
  },
  {
   "cell_type": "code",
   "execution_count": 2,
   "metadata": {},
   "outputs": [
    {
     "name": "stdout",
     "output_type": "stream",
     "text": [
      "Shape od data=  (211, 3)\n"
     ]
    },
    {
     "data": {
      "text/html": [
       "<div>\n",
       "<style scoped>\n",
       "    .dataframe tbody tr th:only-of-type {\n",
       "        vertical-align: middle;\n",
       "    }\n",
       "\n",
       "    .dataframe tbody tr th {\n",
       "        vertical-align: top;\n",
       "    }\n",
       "\n",
       "    .dataframe thead th {\n",
       "        text-align: right;\n",
       "    }\n",
       "</style>\n",
       "<table border=\"1\" class=\"dataframe\">\n",
       "  <thead>\n",
       "    <tr style=\"text-align: right;\">\n",
       "      <th></th>\n",
       "      <th>ID</th>\n",
       "      <th>0</th>\n",
       "      <th>1</th>\n",
       "    </tr>\n",
       "  </thead>\n",
       "  <tbody>\n",
       "    <tr>\n",
       "      <th>0</th>\n",
       "      <td>one_42.jpg-1.jpg-1.jpg</td>\n",
       "      <td>-11.428161</td>\n",
       "      <td>-0.324799</td>\n",
       "    </tr>\n",
       "    <tr>\n",
       "      <th>1</th>\n",
       "      <td>20201116-131916IMG_1335-1.jpg</td>\n",
       "      <td>4.993661</td>\n",
       "      <td>-0.444068</td>\n",
       "    </tr>\n",
       "    <tr>\n",
       "      <th>2</th>\n",
       "      <td>20201116-132319IMG_1387-1.jpg</td>\n",
       "      <td>12.597679</td>\n",
       "      <td>2.612981</td>\n",
       "    </tr>\n",
       "    <tr>\n",
       "      <th>3</th>\n",
       "      <td>20201116-121847IMG_9587-1.jpg</td>\n",
       "      <td>12.962786</td>\n",
       "      <td>-4.636863</td>\n",
       "    </tr>\n",
       "    <tr>\n",
       "      <th>4</th>\n",
       "      <td>20201116-143348_DSC0072-1.jpg</td>\n",
       "      <td>-3.517240</td>\n",
       "      <td>-0.069127</td>\n",
       "    </tr>\n",
       "  </tbody>\n",
       "</table>\n",
       "</div>"
      ],
      "text/plain": [
       "                              ID          0         1\n",
       "0         one_42.jpg-1.jpg-1.jpg -11.428161 -0.324799\n",
       "1  20201116-131916IMG_1335-1.jpg   4.993661 -0.444068\n",
       "2  20201116-132319IMG_1387-1.jpg  12.597679  2.612981\n",
       "3  20201116-121847IMG_9587-1.jpg  12.962786 -4.636863\n",
       "4  20201116-143348_DSC0072-1.jpg  -3.517240 -0.069127"
      ]
     },
     "execution_count": 2,
     "metadata": {},
     "output_type": "execute_result"
    }
   ],
   "source": [
    "df = pd.read_csv(\"tsne-reduced.csv\")\n",
    "print(\"Shape od data= \", df.shape)\n",
    "df.head()"
   ]
  },
  {
   "cell_type": "code",
   "execution_count": 3,
   "metadata": {},
   "outputs": [
    {
     "data": {
      "text/plain": [
       "<matplotlib.collections.PathCollection at 0x7f6515207910>"
      ]
     },
     "execution_count": 3,
     "metadata": {},
     "output_type": "execute_result"
    },
    {
     "data": {
      "image/png": "[encoded data removed]",
      "text/plain": [
       "<Figure size 432x288 with 1 Axes>"
      ]
     },
     "metadata": {
      "needs_background": "light"
     },
     "output_type": "display_data"
    }
   ],
   "source": [
    "# Visualise the data \n",
    "plot_kwds = {'alpha' : 0.5, 's' : 80, 'linewidths':0}\n",
    "\n",
    "plt.scatter(df['0'], df['1'], color='b', **plot_kwds)"
   ]
  },
  {
   "cell_type": "markdown",
   "metadata": {},
   "source": [
    "# testing hdbscan "
   ]
  },
  {
   "cell_type": "code",
   "execution_count": 4,
   "metadata": {},
   "outputs": [],
   "source": [
    "db_test= pd.read_csv('tsne-reduced.csv', usecols = ['0', '1'])\n",
    "db_test.head()\n",
    "data = np.array(db_test)"
   ]
  },
  {
   "cell_type": "code",
   "execution_count": 5,
   "metadata": {
    "scrolled": true
   },
   "outputs": [
    {
     "data": {
      "text/plain": [
       "<matplotlib.collections.PathCollection at 0x7f651513b310>"
      ]
     },
     "execution_count": 5,
     "metadata": {},
     "output_type": "execute_result"
    },
    {
     "data": {
      "image/png": "[encoded data removed]",
      "text/plain": [
       "<Figure size 432x288 with 1 Axes>"
      ]
     },
     "metadata": {
      "needs_background": "light"
     },
     "output_type": "display_data"
    }
   ],
   "source": [
    "plt.scatter(*data.T, s=50, linewidth=0, c='b', alpha=0.25)\n"
   ]
  },
  {
   "cell_type": "code",
   "execution_count": 6,
   "metadata": {},
   "outputs": [
    {
     "ename": "AttributeError",
     "evalue": "module 'hdbscan' has no attribute 'HDBSCAN'",
     "output_type": "error",
     "traceback": [
      "\u001b[0;31m---------------------------------------------------------------------------\u001b[0m",
      "\u001b[0;31mAttributeError\u001b[0m                            Traceback (most recent call last)",
      "\u001b[0;32m<ipython-input-6-a7dd3a67e058>\u001b[0m in \u001b[0;36m<module>\u001b[0;34m\u001b[0m\n\u001b[0;32m----> 1\u001b[0;31m \u001b[0mclusterer\u001b[0m \u001b[0;34m=\u001b[0m \u001b[0mhdbscan\u001b[0m\u001b[0;34m.\u001b[0m\u001b[0mHDBSCAN\u001b[0m\u001b[0;34m(\u001b[0m\u001b[0mmin_cluster_size\u001b[0m\u001b[0;34m=\u001b[0m\u001b[0;36m6\u001b[0m\u001b[0;34m,\u001b[0m\u001b[0mmin_samples\u001b[0m\u001b[0;34m=\u001b[0m\u001b[0;36m3\u001b[0m\u001b[0;34m)\u001b[0m\u001b[0;34m.\u001b[0m\u001b[0mfit\u001b[0m\u001b[0;34m(\u001b[0m\u001b[0mdata\u001b[0m\u001b[0;34m)\u001b[0m\u001b[0;34m\u001b[0m\u001b[0;34m\u001b[0m\u001b[0m\n\u001b[0m\u001b[1;32m      2\u001b[0m \u001b[0mcolor_palette\u001b[0m \u001b[0;34m=\u001b[0m \u001b[0msns\u001b[0m\u001b[0;34m.\u001b[0m\u001b[0mcolor_palette\u001b[0m\u001b[0;34m(\u001b[0m\u001b[0;34m'dark'\u001b[0m\u001b[0;34m,\u001b[0m \u001b[0;36m8\u001b[0m\u001b[0;34m)\u001b[0m\u001b[0;34m\u001b[0m\u001b[0;34m\u001b[0m\u001b[0m\n\u001b[1;32m      3\u001b[0m cluster_colors = [color_palette[x] if x >= 0\n\u001b[1;32m      4\u001b[0m                   \u001b[0;32melse\u001b[0m \u001b[0;34m(\u001b[0m\u001b[0;36m0.5\u001b[0m\u001b[0;34m,\u001b[0m \u001b[0;36m0.5\u001b[0m\u001b[0;34m,\u001b[0m \u001b[0;36m0.5\u001b[0m\u001b[0;34m)\u001b[0m\u001b[0;34m\u001b[0m\u001b[0;34m\u001b[0m\u001b[0m\n\u001b[1;32m      5\u001b[0m                   for x in clusterer.labels_]\n",
      "\u001b[0;31mAttributeError\u001b[0m: module 'hdbscan' has no attribute 'HDBSCAN'"
     ]
    }
   ],
   "source": [
    "\n",
    "clusterer = hdbscan.HDBSCAN(min_cluster_size=6,min_samples=3).fit(data)\n",
    "color_palette = sns.color_palette('dark', 8)\n",
    "cluster_colors = [color_palette[x] if x >= 0\n",
    "                  else (0.5, 0.5, 0.5)\n",
    "                  for x in clusterer.labels_]\n",
    "cluster_member_colors = [sns.desaturate(x, p) for x, p in\n",
    "                         zip(cluster_colors, clusterer.probabilities_)]\n",
    "plt.scatter(*data.T, s=50, linewidth=0, c=cluster_member_colors, alpha=0.25)"
   ]
  },
  {
   "cell_type": "markdown",
   "metadata": {},
   "source": [
    "# see how the clusters look like in Tree format"
   ]
  },
  {
   "cell_type": "code",
   "execution_count": 13,
   "metadata": {},
   "outputs": [
    {
     "ename": "NameError",
     "evalue": "name 'clusterer' is not defined",
     "output_type": "error",
     "traceback": [
      "\u001b[0;31m---------------------------------------------------------------------------\u001b[0m",
      "\u001b[0;31mNameError\u001b[0m                                 Traceback (most recent call last)",
      "\u001b[0;32m<ipython-input-13-8fb3a95c642f>\u001b[0m in \u001b[0;36m<module>\u001b[0;34m\u001b[0m\n\u001b[0;32m----> 1\u001b[0;31m \u001b[0mclusterer\u001b[0m\u001b[0;34m.\u001b[0m\u001b[0mcondensed_tree_\u001b[0m\u001b[0;34m\u001b[0m\u001b[0;34m\u001b[0m\u001b[0m\n\u001b[0m",
      "\u001b[0;31mNameError\u001b[0m: name 'clusterer' is not defined"
     ]
    }
   ],
   "source": [
    "clusterer.condensed_tree_\n"
   ]
  },
  {
   "cell_type": "code",
   "execution_count": 68,
   "metadata": {},
   "outputs": [
    {
     "data": {
      "text/plain": [
       "<matplotlib.axes._subplots.AxesSubplot at 0x7f2afad44fd0>"
      ]
     },
     "execution_count": 68,
     "metadata": {},
     "output_type": "execute_result"
    },
    {
     "data": {
      "image/png": "[encoded data removed]",
      "text/plain": [
       "<Figure size 432x288 with 2 Axes>"
      ]
     },
     "metadata": {
      "needs_background": "light"
     },
     "output_type": "display_data"
    }
   ],
   "source": [
    "clusterer.condensed_tree_.plot()\n"
   ]
  },
  {
   "cell_type": "code",
   "execution_count": 69,
   "metadata": {},
   "outputs": [
    {
     "data": {
      "text/plain": [
       "array([(137, 111, 0.34007777,   1), (137, 138, 0.37614821,  23),\n",
       "       (137, 139, 0.37614821, 113), (138,  63, 0.510957  ,   1),\n",
       "       (139, 140, 0.42414923,  13), (139, 141, 0.42414923, 100),\n",
       "       (138,  66, 0.54858957,   1), (140,  60, 0.51739402,   1),\n",
       "       (141,  82, 0.50826788,   1), (138, 129, 0.5786321 ,   1),\n",
       "       (140, 126, 0.66510014,   1), (141,  68, 0.52000791,   1),\n",
       "       (138,  52, 0.59717693,   1), (140,  53, 0.87584026,   1),\n",
       "       (141,  45, 0.52219897,   1), (138,  80, 0.61510121,   1),\n",
       "       (140,  88, 0.90056677,   1), (141,  28, 0.5374828 ,   1),\n",
       "       (138,  26, 0.63969514,   1), (140,  50, 0.90056677,   1),\n",
       "       (141, 121, 0.53790376,   1), (138,  48, 0.72514786,   1),\n",
       "       (140,  15, 0.98023786,   1), (141,  69, 0.55318877,   1),\n",
       "       (138,  90, 0.77988984,   1), (140, 117, 0.98667292,   1),\n",
       "       (141, 142, 0.55577333,   5), (141, 143, 0.55577333,  89),\n",
       "       (138, 118, 0.78386801,   1), (140,  84, 1.01963408,   1),\n",
       "       (142,  79, 0.67457435,   1), (142, 105, 0.67457435,   1),\n",
       "       (142,  12, 0.67457435,   1), (142,  59, 0.67457435,   1),\n",
       "       (142, 101, 0.67457435,   1), (143,  99, 0.55577333,   1),\n",
       "       (138, 100, 0.82306416,   1), (140,  89, 1.16734716,   1),\n",
       "       (140,  98, 1.16734716,   1), (140,   0, 1.16734716,   1),\n",
       "       (140, 102, 1.16734716,   1), (140,  56, 1.16734716,   1),\n",
       "       (143,   7, 0.5623656 ,   1), (138,  58, 0.91958435,   1),\n",
       "       (143, 144, 0.56914347,  14), (143, 145, 0.56914347,  73),\n",
       "       (138,  55, 0.93094626,   1), (144,  10, 0.61264227,   1),\n",
       "       (145,  35, 0.59527817,   1), (138,  18, 0.93094626,   1),\n",
       "       (144,   4, 0.65052277,   1), (145,  22, 0.59820545,   1),\n",
       "       (138, 114, 0.94990815,   1), (144,  74, 0.65348451,   1),\n",
       "       (145, 146, 0.61319733,  42), (145, 147, 0.61319733,  29),\n",
       "       (138,  57, 0.98424396,   1), (144,  72, 0.68945654,   1),\n",
       "       (146,  73, 0.61850655,   1), (147, 115, 0.64711998,   1),\n",
       "       (138, 128, 1.0459147 ,   1), (144, 108, 0.82024319,   1),\n",
       "       (146, 120, 0.6207477 ,   1), (147,   1, 0.6715217 ,   1),\n",
       "       (138,  71, 1.08418465,   1), (144, 130, 0.87416483,   1),\n",
       "       (146, 133, 0.68339268,   1), (147, 148, 0.68172809,   6),\n",
       "       (147, 149, 0.68172809,  21), (138, 106, 1.08418465,   1),\n",
       "       (138, 131, 1.08418465,   1), (138,  96, 1.08418465,   1),\n",
       "       (138, 107, 1.08418465,   1), (138,   3, 1.08418465,   1),\n",
       "       (138, 134, 1.08418465,   1), (144, 136, 0.97144417,   1),\n",
       "       (146,  29, 0.72250422,   1), (148,  47, 0.77639453,   1),\n",
       "       (149,  13, 0.68753231,   1), (144,  27, 0.97474594,   1),\n",
       "       (146, 123, 0.7249014 ,   1), (148,  21, 0.90806941,   1),\n",
       "       (148,  64, 0.90806941,   1), (148,  30, 0.90806941,   1),\n",
       "       (148,  33, 0.90806941,   1), (148, 109, 0.90806941,   1),\n",
       "       (149,  24, 0.70560628,   1), (144,  67, 1.00258265,   1),\n",
       "       (146,  17, 0.72810238,   1), (146, 127, 0.72810238,   1),\n",
       "       (149,  42, 0.70560628,   1), (144,  11, 1.01703576,   1),\n",
       "       (144, 119, 1.01703576,   1), (144,  19, 1.01703576,   1),\n",
       "       (144,  62, 1.01703576,   1), (144,  40, 1.01703576,   1),\n",
       "       (146,  85, 0.72810238,   1), (146,  20, 0.72810238,   1),\n",
       "       (149,  77, 0.75991689,   1), (146, 132, 0.72826782,   1),\n",
       "       (149, 122, 0.7664928 ,   1), (146,  78, 0.73544009,   1),\n",
       "       (146, 113, 0.73544009,   1), (146,  61, 0.73544009,   1),\n",
       "       (146,  25, 0.73544009,   1), (149,  14, 0.78900272,   1),\n",
       "       (146,  34, 0.74510448,   1), (149, 110, 0.88440326,   1),\n",
       "       (146,  41, 0.76266414,   1), (149,  91, 0.9185425 ,   1),\n",
       "       (146,  76, 0.76506093,   1), (149,  43, 0.99224753,   1),\n",
       "       (146, 104, 0.77663686,   1), (149,  94, 1.05554182,   1),\n",
       "       (146,   5, 0.80851976,   1), (149, 116, 1.0609815 ,   1),\n",
       "       (146,  95, 0.84046041,   1), (149,  51, 1.0622866 ,   1),\n",
       "       (146, 112, 0.86588298,   1), (149, 124, 1.07194109,   1),\n",
       "       (146,  36, 0.91057579,   1), (146,  97, 0.91057579,   1),\n",
       "       (149,  46, 1.09849015,   1), (149, 103, 1.09849015,   1),\n",
       "       (146, 150, 0.96428478,   9), (146, 151, 0.96428478,  10),\n",
       "       (149,  49, 1.09849015,   1), (150,  23, 0.96428478,   1),\n",
       "       (151,  70, 1.020104  ,   1), (149,  38, 1.12020695,   1),\n",
       "       (149,  86, 1.12020695,   1), (149,  16, 1.12020695,   1),\n",
       "       (149,  31, 1.12020695,   1), (149, 135, 1.12020695,   1),\n",
       "       (150,  54, 0.96428478,   1), (151,   6, 1.020104  ,   1),\n",
       "       (151,  83, 1.020104  ,   1), (151,  81, 1.020104  ,   1),\n",
       "       (150,  39, 0.99197359,   1), (151,  92, 1.020104  ,   1),\n",
       "       (150,   8, 0.99197359,   1), (151,  93, 1.0535075 ,   1),\n",
       "       (151,  44, 1.0535075 ,   1), (151,   2, 1.0535075 ,   1),\n",
       "       (151,  37, 1.0535075 ,   1), (151,  32, 1.0535075 ,   1),\n",
       "       (150, 125, 1.02249515,   1), (150,   9, 1.02249515,   1),\n",
       "       (150,  87, 1.02249515,   1), (150,  75, 1.02249515,   1),\n",
       "       (150,  65, 1.02249515,   1)],\n",
       "      dtype=[('parent', '<i8'), ('child', '<i8'), ('lambda_val', '<f8'), ('child_size', '<i8')])"
      ]
     },
     "execution_count": 69,
     "metadata": {},
     "output_type": "execute_result"
    }
   ],
   "source": [
    "clusterer.condensed_tree_.to_numpy()\n"
   ]
  },
  {
   "cell_type": "code",
   "execution_count": 70,
   "metadata": {},
   "outputs": [
    {
     "data": {
      "text/plain": [
       "array([ 1, -1,  4,  0,  3,  4,  4, -1,  4,  4,  3,  3,  2,  6,  6,  1,  6,\n",
       "        4,  0,  3,  4,  5, -1,  4,  6,  4,  0,  3, -1,  4,  5,  6,  4,  5,\n",
       "        4, -1,  4,  4,  6,  4,  3,  4,  6,  6,  4, -1,  6,  5,  0,  6,  1,\n",
       "        6,  0,  1,  4,  0,  1,  0,  0,  2,  1,  4,  3,  0,  5,  4,  0,  3,\n",
       "       -1, -1,  4,  0,  3,  4,  3,  4,  4,  6,  4,  2,  0,  4, -1,  4,  1,\n",
       "        4,  6,  4,  1,  1,  0,  6,  4,  4,  6,  4,  0,  4,  1, -1,  0,  2,\n",
       "        1,  6,  4,  2,  0,  0,  3,  5,  6, -1,  4,  4,  0, -1,  6,  1,  0,\n",
       "        3,  4, -1,  6,  4,  6,  4,  1,  4,  0,  0,  3,  0,  4,  4,  0,  6,\n",
       "        3])"
      ]
     },
     "execution_count": 70,
     "metadata": {},
     "output_type": "execute_result"
    }
   ],
   "source": [
    "clusterer.labels_\n"
   ]
  },
  {
   "cell_type": "code",
   "execution_count": 71,
   "metadata": {},
   "outputs": [
    {
     "data": {
      "text/plain": [
       "array([-1,  0,  1,  2,  3,  4,  5,  6])"
      ]
     },
     "execution_count": 71,
     "metadata": {},
     "output_type": "execute_result"
    }
   ],
   "source": [
    "np.unique(clusterer.labels_)"
   ]
  },
  {
   "cell_type": "markdown",
   "metadata": {},
   "source": [
    "# test new cluster size "
   ]
  },
  {
   "cell_type": "code",
   "execution_count": 139,
   "metadata": {},
   "outputs": [
    {
     "data": {
      "text/plain": [
       "<matplotlib.collections.PathCollection at 0x7f8fde11e150>"
      ]
     },
     "execution_count": 139,
     "metadata": {},
     "output_type": "execute_result"
    },
    {
     "data": {
      "image/png": "[encoded data removed]",
      "text/plain": [
       "<Figure size 432x288 with 1 Axes>"
      ]
     },
     "metadata": {
      "needs_background": "light"
     },
     "output_type": "display_data"
    }
   ],
   "source": [
    "clusterer = hdbscan.HDBSCAN(min_cluster_size=4).fit(data)\n",
    "color_palette = sns.color_palette('deep', 8)\n",
    "cluster_colors = [color_palette[x] if x >= 0\n",
    "                  else (0.5, 0.5, 0.5)\n",
    "                  for x in clusterer.labels_]\n",
    "cluster_member_colors = [sns.desaturate(x, p) for x, p in\n",
    "                         zip(cluster_colors, clusterer.probabilities_)]\n",
    "plt.scatter(*data.T, s=50, linewidth=0, c=cluster_member_colors, alpha=0.25)"
   ]
  },
  {
   "cell_type": "code",
   "execution_count": 140,
   "metadata": {},
   "outputs": [
    {
     "data": {
      "text/plain": [
       "array([ 1, -1,  4,  0, -1,  4,  4, -1,  4,  4, -1,  3,  2, -1,  6,  1,  6,\n",
       "        4,  0,  3,  4,  5, -1,  4, -1,  4,  0,  3, -1, -1,  5,  6,  4,  5,\n",
       "        4, -1,  4,  4,  6,  4,  3,  4,  6,  6,  4, -1,  6,  5,  0,  6,  1,\n",
       "        6,  0,  1,  4,  0,  1,  0,  0,  2,  1,  4,  3,  0,  5,  4,  0,  3,\n",
       "       -1, -1,  4,  0,  3, -1, -1,  4, -1,  6,  4, -1,  0,  4, -1,  4,  1,\n",
       "        4,  6,  4,  1,  1,  0,  6,  4,  4,  6,  4,  0,  4,  1, -1,  0,  2,\n",
       "        1,  6,  4,  2,  0,  0,  3,  5,  6, -1,  4, -1,  0, -1,  6,  1,  0,\n",
       "        3, -1, -1,  6,  4,  6,  4,  1, -1,  0,  0,  3,  0,  4,  4,  0,  6,\n",
       "        3])"
      ]
     },
     "execution_count": 140,
     "metadata": {},
     "output_type": "execute_result"
    }
   ],
   "source": [
    "clusterer.labels_"
   ]
  },
  {
   "cell_type": "code",
   "execution_count": 141,
   "metadata": {},
   "outputs": [
    {
     "name": "stdout",
     "output_type": "stream",
     "text": [
      "the number of uniqe clusters: [-1  0  1  2  3  4  5  6]\n",
      "the length of cluster prediction:  137\n"
     ]
    }
   ],
   "source": [
    "print('the number of uniqe clusters:',np.unique(clusterer.labels_))\n",
    "print('the length of cluster prediction: ',len (clusterer.labels_))"
   ]
  },
  {
   "cell_type": "markdown",
   "metadata": {},
   "source": [
    "# Move files according to clusters "
   ]
  },
  {
   "cell_type": "code",
   "execution_count": 73,
   "metadata": {},
   "outputs": [],
   "source": [
    "import os\n",
    "import shutil\n",
    "import csv\n",
    "import sys\n",
    "import pandas as pd\n",
    "current = os.getcwd()\n",
    "\n",
    "# os.mkdir('./HDBSCAN_clusters')"
   ]
  },
  {
   "cell_type": "code",
   "execution_count": 74,
   "metadata": {},
   "outputs": [
    {
     "name": "stdout",
     "output_type": "stream",
     "text": [
      "the length of image list:  137\n"
     ]
    },
    {
     "data": {
      "text/html": [
       "<div>\n",
       "<style scoped>\n",
       "    .dataframe tbody tr th:only-of-type {\n",
       "        vertical-align: middle;\n",
       "    }\n",
       "\n",
       "    .dataframe tbody tr th {\n",
       "        vertical-align: top;\n",
       "    }\n",
       "\n",
       "    .dataframe thead th {\n",
       "        text-align: right;\n",
       "    }\n",
       "</style>\n",
       "<table border=\"1\" class=\"dataframe\">\n",
       "  <thead>\n",
       "    <tr style=\"text-align: right;\">\n",
       "      <th></th>\n",
       "      <th>ID</th>\n",
       "    </tr>\n",
       "  </thead>\n",
       "  <tbody>\n",
       "    <tr>\n",
       "      <th>0</th>\n",
       "      <td>20201116-121822IMG_0310-1 resized.jpg</td>\n",
       "    </tr>\n",
       "    <tr>\n",
       "      <th>1</th>\n",
       "      <td>20201116-131406IMG_8417-1 resized.jpg</td>\n",
       "    </tr>\n",
       "    <tr>\n",
       "      <th>2</th>\n",
       "      <td>20201116-142909IMG_2038-1 resized.jpg</td>\n",
       "    </tr>\n",
       "    <tr>\n",
       "      <th>3</th>\n",
       "      <td>one_30.jpg-1 resized.jpg</td>\n",
       "    </tr>\n",
       "    <tr>\n",
       "      <th>4</th>\n",
       "      <td>20201116-123847IMG_7869-1 resized.jpg</td>\n",
       "    </tr>\n",
       "  </tbody>\n",
       "</table>\n",
       "</div>"
      ],
      "text/plain": [
       "                                      ID\n",
       "0  20201116-121822IMG_0310-1 resized.jpg\n",
       "1  20201116-131406IMG_8417-1 resized.jpg\n",
       "2  20201116-142909IMG_2038-1 resized.jpg\n",
       "3               one_30.jpg-1 resized.jpg\n",
       "4  20201116-123847IMG_7869-1 resized.jpg"
      ]
     },
     "execution_count": 74,
     "metadata": {},
     "output_type": "execute_result"
    }
   ],
   "source": [
    "col_list = [\"ID\"]\n",
    "image_data_list = pd.read_csv('results.csv', usecols=col_list)\n",
    "print('the length of image list: ',len(image_data_list))\n",
    "image_data_list.head()"
   ]
  },
  {
   "cell_type": "code",
   "execution_count": 75,
   "metadata": {},
   "outputs": [
    {
     "name": "stdout",
     "output_type": "stream",
     "text": [
      "type source: <class 'list'> type destintaion:  <class 'list'>\n",
      "./images/20201116-121822IMG_0310-1 resized.jpg  ->  ./HDBSCAN_clusters/1\n",
      "./images/20201116-131406IMG_8417-1 resized.jpg  ->  ./HDBSCAN_clusters/-1\n",
      "./images/20201116-142909IMG_2038-1 resized.jpg  ->  ./HDBSCAN_clusters/4\n",
      "./images/one_30.jpg-1 resized.jpg  ->  ./HDBSCAN_clusters/0\n",
      "./images/20201116-123847IMG_7869-1 resized.jpg  ->  ./HDBSCAN_clusters/3\n",
      "./images/20201116-142800IMG_9078-1 resized.jpg  ->  ./HDBSCAN_clusters/4\n",
      "./images/20201116-140443IMG_1838-1 resized.jpg  ->  ./HDBSCAN_clusters/4\n",
      "./images/20201116-133429IMG_1588-1 resized.jpg  ->  ./HDBSCAN_clusters/-1\n",
      "./images/20201116-133908IMG_8576-1 resized.jpg  ->  ./HDBSCAN_clusters/4\n",
      "./images/20201116-142933IMG_2077-1 resized.jpg  ->  ./HDBSCAN_clusters/4\n",
      "./images/20201116-131918IMG_8261-1 resized.jpg  ->  ./HDBSCAN_clusters/3\n",
      "./images/20201116-121934IMG_7569-1 resized.jpg  ->  ./HDBSCAN_clusters/3\n",
      "./images/one_36.jpg-1 resized.jpg  ->  ./HDBSCAN_clusters/2\n",
      "./images/20201116-131912IMG_8509-1 resized.jpg  ->  ./HDBSCAN_clusters/6\n",
      "./images/20201116-135713IMG_8734-1 resized.jpg  ->  ./HDBSCAN_clusters/6\n",
      "./images/20201116-121838IMG_8025-1 resized.jpg  ->  ./HDBSCAN_clusters/1\n",
      "./images/20201116-131850IMG_8245-1 resized.jpg  ->  ./HDBSCAN_clusters/6\n",
      "./images/20201116-143804IMG_2207-1 resized.jpg  ->  ./HDBSCAN_clusters/4\n",
      "./images/one_10.jpg-1 resized.jpg  ->  ./HDBSCAN_clusters/0\n",
      "./images/20201116-123844IMG_0806-1 resized.jpg  ->  ./HDBSCAN_clusters/3\n",
      "./images/20201116-143537IMG_9197-2 resized.jpg  ->  ./HDBSCAN_clusters/4\n",
      "./images/20201116-132208IMG_8520-1 resized.jpg  ->  ./HDBSCAN_clusters/5\n",
      "./images/20201116-134955IMG_8665-1 resized.jpg  ->  ./HDBSCAN_clusters/-1\n",
      "./images/20201116-143519IMG_2152-1 resized.jpg  ->  ./HDBSCAN_clusters/4\n",
      "./images/20201116-131927IMG_8274-1 resized.jpg  ->  ./HDBSCAN_clusters/6\n",
      "./images/20201116-142738IMG_9055-1 resized.jpg  ->  ./HDBSCAN_clusters/4\n",
      "./images/one_15.jpg-1 resized.jpg  ->  ./HDBSCAN_clusters/0\n",
      "./images/20201116-121834IMG_0326-1 resized.jpg  ->  ./HDBSCAN_clusters/3\n",
      "./images/20201116-142738IMG_9051-3 resized.jpg  ->  ./HDBSCAN_clusters/-1\n",
      "./images/20201116-143343IMG_9160-2 resized.jpg  ->  ./HDBSCAN_clusters/4\n",
      "./images/20201116-132422IMG_1423-1 resized.jpg  ->  ./HDBSCAN_clusters/5\n",
      "./images/20201116-131602IMG_1256-1 resized.jpg  ->  ./HDBSCAN_clusters/6\n",
      "./images/20201116-143152IMG_9143-1 resized.jpg  ->  ./HDBSCAN_clusters/4\n",
      "./images/20201116-132419IMG_8536-1 resized.jpg  ->  ./HDBSCAN_clusters/5\n",
      "./images/20201116-125207IMG_8068-1 resized.jpg  ->  ./HDBSCAN_clusters/4\n",
      "./images/20201116-125049IMG_8300-1 resized.jpg  ->  ./HDBSCAN_clusters/-1\n",
      "./images/20201116-123858IMG_0840-1 resized.jpg  ->  ./HDBSCAN_clusters/4\n",
      "./images/20201116-142921IMG_2064-1 resized.jpg  ->  ./HDBSCAN_clusters/4\n",
      "./images/20201116-131848IMG_1303-1 resized.jpg  ->  ./HDBSCAN_clusters/6\n",
      "./images/20201116-121440IMG_0244-1 resized.jpg  ->  ./HDBSCAN_clusters/4\n",
      "./images/20201116-121934IMG_9592-1 resized.jpg  ->  ./HDBSCAN_clusters/3\n",
      "./images/20201116-125204IMG_1079-1 resized.jpg  ->  ./HDBSCAN_clusters/4\n",
      "./images/20201116-132752IMG_1528-1 resized.jpg  ->  ./HDBSCAN_clusters/6\n",
      "./images/20201116-131902IMG_1318-1 resized.jpg  ->  ./HDBSCAN_clusters/6\n",
      "./images/20201116-142940IMG_2087-1 resized.jpg  ->  ./HDBSCAN_clusters/4\n",
      "./images/one_16.jpg-1 resized.jpg  ->  ./HDBSCAN_clusters/-1\n",
      "./images/20201116-131549IMG_8174-1 resized.jpg  ->  ./HDBSCAN_clusters/6\n",
      "./images/20201116-131436IMG_8137-1 resized.jpg  ->  ./HDBSCAN_clusters/5\n",
      "./images/one_5.jpg-1 resized.jpg  ->  ./HDBSCAN_clusters/0\n",
      "./images/20201116-131533IMG_1231-1 resized.jpg  ->  ./HDBSCAN_clusters/6\n",
      "./images/20201116-121819IMG_7986-1 resized.jpg  ->  ./HDBSCAN_clusters/1\n",
      "./images/20201116-131831IMG_8238-1 resized.jpg  ->  ./HDBSCAN_clusters/6\n",
      "./images/one_14.jpg-1 resized.jpg  ->  ./HDBSCAN_clusters/0\n",
      "./images/20201116-121820IMG_7537-1 resized.jpg  ->  ./HDBSCAN_clusters/1\n",
      "./images/20201116-135432IMG_8765-1 resized.jpg  ->  ./HDBSCAN_clusters/4\n",
      "./images/one_37.jpg-1 resized.jpg  ->  ./HDBSCAN_clusters/0\n",
      "./images/20201116-121129IMG_7904-1 resized.jpg  ->  ./HDBSCAN_clusters/1\n",
      "./images/one_28.jpg-1 resized.jpg  ->  ./HDBSCAN_clusters/0\n",
      "./images/one_39.jpg-1 resized.jpg  ->  ./HDBSCAN_clusters/0\n",
      "./images/one_26.jpg-1 resized.jpg  ->  ./HDBSCAN_clusters/2\n",
      "./images/20201116-121134IMG_0182-1 resized.jpg  ->  ./HDBSCAN_clusters/1\n",
      "./images/20201116-142738IMG_9051-1 resized.jpg  ->  ./HDBSCAN_clusters/4\n",
      "./images/20201116-121837IMG_9564-1 resized.jpg  ->  ./HDBSCAN_clusters/3\n",
      "./images/one_22.jpg-1 resized.jpg  ->  ./HDBSCAN_clusters/0\n",
      "./images/20201116-132431IMG_1435-1 resized.jpg  ->  ./HDBSCAN_clusters/5\n",
      "./images/20201116-144009IMG_9264-1 resized.jpg  ->  ./HDBSCAN_clusters/4\n",
      "./images/one_23.jpg-1 resized.jpg  ->  ./HDBSCAN_clusters/0\n",
      "./images/20201116-121847IMG_9587-1 resized.jpg  ->  ./HDBSCAN_clusters/3\n",
      "./images/20201116-132133IMG_1369-1 resized.jpg  ->  ./HDBSCAN_clusters/-1\n",
      "./images/one_33.jpg-1 resized.jpg  ->  ./HDBSCAN_clusters/-1\n",
      "./images/20201116-142850IMG_2027-1 resized.jpg  ->  ./HDBSCAN_clusters/4\n",
      "./images/one_0.jpg-1 resized.jpg  ->  ./HDBSCAN_clusters/0\n",
      "./images/20201116-135554IMG_8779-1 resized.jpg  ->  ./HDBSCAN_clusters/3\n",
      "./images/20201116-141641IMG_1921-1 resized.jpg  ->  ./HDBSCAN_clusters/4\n",
      "./images/20201116-121830IMG_8002-1 resized.jpg  ->  ./HDBSCAN_clusters/3\n",
      "./images/20201116-143521IMG_9181-1 resized.jpg  ->  ./HDBSCAN_clusters/4\n",
      "./images/one_34.jpg-1 resized.jpg  ->  ./HDBSCAN_clusters/4\n",
      "./images/20201116-131410IMG_1156-1 resized.jpg  ->  ./HDBSCAN_clusters/6\n",
      "./images/20201116-143758IMG_9236-1 resized.jpg  ->  ./HDBSCAN_clusters/4\n",
      "./images/one_2.jpg-1 resized.jpg  ->  ./HDBSCAN_clusters/2\n",
      "./images/one_38.jpg-1 resized.jpg  ->  ./HDBSCAN_clusters/0\n",
      "./images/20201116-140445IMG_8891-1 resized.jpg  ->  ./HDBSCAN_clusters/4\n",
      "./images/20201116-132752IMG_1528-2 resized.jpg  ->  ./HDBSCAN_clusters/-1\n",
      "./images/20201116-142745IMG_9061-1 resized.jpg  ->  ./HDBSCAN_clusters/4\n",
      "./images/20201116-121825IMG_7543-1 resized.jpg  ->  ./HDBSCAN_clusters/1\n",
      "./images/20201116-143343IMG_9160-1 resized.jpg  ->  ./HDBSCAN_clusters/4\n",
      "./images/20201116-131547IMG_1244-1 resized.jpg  ->  ./HDBSCAN_clusters/6\n",
      "./images/20201116-135002IMG_8661-1 resized.jpg  ->  ./HDBSCAN_clusters/4\n",
      "./images/20201116-121132IMG_0168-1 resized.jpg  ->  ./HDBSCAN_clusters/1\n",
      "./images/20201116-121835IMG_8015-1 resized.jpg  ->  ./HDBSCAN_clusters/1\n",
      "./images/one_3.jpg-1 resized.jpg  ->  ./HDBSCAN_clusters/0\n",
      "./images/20201116-131340IMG_8098-1 resized.jpg  ->  ./HDBSCAN_clusters/6\n",
      "./images/20201116-125052IMG_1049-1 resized.jpg  ->  ./HDBSCAN_clusters/4\n",
      "./images/20201116-143722IMG_8917-1 resized.jpg  ->  ./HDBSCAN_clusters/4\n",
      "./images/20201116-135149IMG_1718-1 resized.jpg  ->  ./HDBSCAN_clusters/6\n",
      "./images/20201116-143516IMG_8877-1 resized.jpg  ->  ./HDBSCAN_clusters/4\n",
      "./images/one_8.jpg-1 resized.jpg  ->  ./HDBSCAN_clusters/0\n",
      "./images/20201116-125113IMG_8313-1 resized.jpg  ->  ./HDBSCAN_clusters/4\n",
      "./images/20201116-121842IMG_0346-1 resized.jpg  ->  ./HDBSCAN_clusters/1\n",
      "./images/one_29.jpg-1 resized.jpg  ->  ./HDBSCAN_clusters/-1\n",
      "./images/one_21.jpg-1 resized.jpg  ->  ./HDBSCAN_clusters/0\n",
      "./images/one_1.jpg-1 resized.jpg  ->  ./HDBSCAN_clusters/2\n",
      "./images/20201116-121828IMG_9557-1 resized.jpg  ->  ./HDBSCAN_clusters/1\n",
      "./images/20201116-131904IMG_8255-1 resized.jpg  ->  ./HDBSCAN_clusters/6\n",
      "./images/20201116-135041IMG_1697-1 resized.jpg  ->  ./HDBSCAN_clusters/4\n",
      "./images/one_11.jpg-1 resized.jpg  ->  ./HDBSCAN_clusters/2\n",
      "./images/one_24.jpg-1 resized.jpg  ->  ./HDBSCAN_clusters/0\n",
      "./images/one_31.jpg-1 resized.jpg  ->  ./HDBSCAN_clusters/0\n",
      "./images/20201116-121836IMG_7551-1 resized.jpg  ->  ./HDBSCAN_clusters/3\n",
      "./images/20201116-132319IMG_1387-1 resized.jpg  ->  ./HDBSCAN_clusters/5\n",
      "./images/20201116-134954IMG_8655-1 resized.jpg  ->  ./HDBSCAN_clusters/6\n",
      "./images/one_16.jpg-2 resized.jpg  ->  ./HDBSCAN_clusters/-1\n",
      "./images/20201116-135040IMG_8679-1 resized.jpg  ->  ./HDBSCAN_clusters/4\n",
      "./images/20201116-142727IMG_9047-1 resized.jpg  ->  ./HDBSCAN_clusters/4\n",
      "./images/one_13.jpg-1 resized.jpg  ->  ./HDBSCAN_clusters/0\n",
      "./images/20201116-131319IMG_1111-1 resized.jpg  ->  ./HDBSCAN_clusters/-1\n",
      "./images/20201116-131925IMG_1349-1 resized.jpg  ->  ./HDBSCAN_clusters/6\n",
      "./images/20201116-121818IMG_0298-1 resized.jpg  ->  ./HDBSCAN_clusters/1\n",
      "./images/one_32.jpg-1 resized.jpg  ->  ./HDBSCAN_clusters/0\n",
      "./images/20201116-123757IMG_0766-1 resized.jpg  ->  ./HDBSCAN_clusters/3\n",
      "./images/20201116-131459IMG_8148-1 resized.jpg  ->  ./HDBSCAN_clusters/4\n",
      "./images/20201116-131434IMG_1188-1 resized.jpg  ->  ./HDBSCAN_clusters/-1\n",
      "./images/20201116-131338IMG_1129-1 resized.jpg  ->  ./HDBSCAN_clusters/6\n",
      "./images/20201116-143537IMG_9197-1 resized.jpg  ->  ./HDBSCAN_clusters/4\n",
      "./images/20201116-131916IMG_1335-1 resized.jpg  ->  ./HDBSCAN_clusters/6\n",
      "./images/20201116-143524IMG_9186-1 resized.jpg  ->  ./HDBSCAN_clusters/4\n",
      "./images/20201116-121319IMG_7493-1 resized.jpg  ->  ./HDBSCAN_clusters/1\n",
      "./images/20201116-143343IMG_9160-3 resized.jpg  ->  ./HDBSCAN_clusters/4\n",
      "./images/one_7.jpg-1 resized.jpg  ->  ./HDBSCAN_clusters/0\n",
      "./images/one_35.jpg-1 resized.jpg  ->  ./HDBSCAN_clusters/0\n",
      "./images/20201116-121928IMG_8044-1 resized.jpg  ->  ./HDBSCAN_clusters/3\n",
      "./images/one_20.jpg-1 resized.jpg  ->  ./HDBSCAN_clusters/0\n",
      "./images/20201116-142743IMG_1999-1 resized.jpg  ->  ./HDBSCAN_clusters/4\n",
      "./images/20201116-142758IMG_2015-1 resized.jpg  ->  ./HDBSCAN_clusters/4\n",
      "./images/one_18.jpg-1 resized.jpg  ->  ./HDBSCAN_clusters/0\n",
      "./images/20201116-131427IMG_1176-1 resized.jpg  ->  ./HDBSCAN_clusters/6\n",
      "./images/20201116-121932IMG_0365-1 resized.jpg  ->  ./HDBSCAN_clusters/3\n"
     ]
    }
   ],
   "source": [
    "current = os.getcwd()\n",
    "for clusters in np.unique(clusterer.labels_):\n",
    "    folder = str(clusters)\n",
    "    os.mkdir('./HDBSCAN_clusters/'+folder)\n",
    "#     print('./HDBSCAN_clusters/'+folder)\n",
    "\n",
    "source = image_data_list.values.tolist()\n",
    "destintaion= clusterer.labels_.tolist()\n",
    "print('type source:',type(source),\"type destintaion: \",type(destintaion))\n",
    "destintaion_path = './HDBSCAN_clusters/'\n",
    "\n",
    "# moving files to clusters \n",
    "\n",
    "for i in range(len(source)):\n",
    "    s = './images/'+str(source[i][0])\n",
    "    d = './HDBSCAN_clusters/'+str(destintaion[i])\n",
    "    print(s , ' -> ' ,d)\n",
    "    shutil.copy(s,d)\n",
    "\n"
   ]
  },
  {
   "cell_type": "code",
   "execution_count": null,
   "metadata": {},
   "outputs": [],
   "source": []
  },
  {
   "cell_type": "markdown",
   "metadata": {},
   "source": [
    "# HDB SCAN module testing "
   ]
  },
  {
   "cell_type": "code",
   "execution_count": 14,
   "metadata": {},
   "outputs": [
    {
     "ename": "AttributeError",
     "evalue": "module 'hdbscan' has no attribute 'HDBSCAN'",
     "output_type": "error",
     "traceback": [
      "\u001b[0;31m---------------------------------------------------------------------------\u001b[0m",
      "\u001b[0;31mAttributeError\u001b[0m                            Traceback (most recent call last)",
      "\u001b[0;32m<ipython-input-14-793b16bbb6c0>\u001b[0m in \u001b[0;36m<module>\u001b[0;34m\u001b[0m\n\u001b[1;32m      3\u001b[0m \u001b[0mdata\u001b[0m\u001b[0;34m,\u001b[0m \u001b[0m_\u001b[0m \u001b[0;34m=\u001b[0m \u001b[0mmake_blobs\u001b[0m\u001b[0;34m(\u001b[0m\u001b[0;36m1000\u001b[0m\u001b[0;34m)\u001b[0m\u001b[0;34m\u001b[0m\u001b[0;34m\u001b[0m\u001b[0m\n\u001b[1;32m      4\u001b[0m \u001b[0;34m\u001b[0m\u001b[0m\n\u001b[0;32m----> 5\u001b[0;31m \u001b[0mclusterer\u001b[0m \u001b[0;34m=\u001b[0m \u001b[0mhdbscan\u001b[0m\u001b[0;34m.\u001b[0m\u001b[0mHDBSCAN\u001b[0m\u001b[0;34m(\u001b[0m\u001b[0mmin_cluster_size\u001b[0m\u001b[0;34m=\u001b[0m\u001b[0;36m10\u001b[0m\u001b[0;34m)\u001b[0m\u001b[0;34m\u001b[0m\u001b[0;34m\u001b[0m\u001b[0m\n\u001b[0m\u001b[1;32m      6\u001b[0m \u001b[0mcluster_labels\u001b[0m \u001b[0;34m=\u001b[0m \u001b[0mclusterer\u001b[0m\u001b[0;34m.\u001b[0m\u001b[0mfit_predict\u001b[0m\u001b[0;34m(\u001b[0m\u001b[0mdata\u001b[0m\u001b[0;34m)\u001b[0m\u001b[0;34m\u001b[0m\u001b[0;34m\u001b[0m\u001b[0m\n",
      "\u001b[0;31mAttributeError\u001b[0m: module 'hdbscan' has no attribute 'HDBSCAN'"
     ]
    }
   ],
   "source": [
    "from sklearn.datasets import make_blobs\n",
    "\n",
    "data, _ = make_blobs(1000)\n",
    "\n",
    "clusterer = hdbscan.HDBSCAN(min_cluster_size=10)\n",
    "cluster_labels = clusterer.fit_predict(data)\n"
   ]
  },
  {
   "cell_type": "code",
   "execution_count": null,
   "metadata": {},
   "outputs": [],
   "source": []
  }
 ],
 "metadata": {
  "kernelspec": {
   "display_name": "Python 3.7 (tensorflow)",
   "language": "python",
   "name": "tensorflow"
  },
  "language_info": {
   "codemirror_mode": {
    "name": "ipython",
    "version": 3
   },
   "file_extension": ".py",
   "mimetype": "text/x-python",
   "name": "python",
   "nbconvert_exporter": "python",
   "pygments_lexer": "ipython3",
   "version": "3.7.6"
  }
 },
 "nbformat": 4,
 "nbformat_minor": 4
}
