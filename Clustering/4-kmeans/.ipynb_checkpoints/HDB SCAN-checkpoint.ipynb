{
 "cells": [
  {
   "cell_type": "markdown",
   "metadata": {},
   "source": [
    "# Import necessary Libraries "
   ]
  },
  {
   "cell_type": "code",
   "execution_count": 121,
   "metadata": {},
   "outputs": [],
   "source": [
    "import pandas as pd\n",
    "import numpy as np\n",
    "import matplotlib.pyplot as plt\n",
    "from sklearn.cluster import KMeans\n",
    "import numpy as np\n",
    "import seaborn as sns\n",
    "import sklearn.datasets as data\n",
    "import csv\n",
    "\n",
    "#HDBSCAN\n",
    "\n",
    "import hdbscan"
   ]
  },
  {
   "cell_type": "markdown",
   "metadata": {},
   "source": [
    "# Import the data and visualise it "
   ]
  },
  {
   "cell_type": "code",
   "execution_count": 122,
   "metadata": {},
   "outputs": [
    {
     "name": "stdout",
     "output_type": "stream",
     "text": [
      "Shape od data=  (137, 3)\n"
     ]
    },
    {
     "data": {
      "text/html": [
       "<div>\n",
       "<style scoped>\n",
       "    .dataframe tbody tr th:only-of-type {\n",
       "        vertical-align: middle;\n",
       "    }\n",
       "\n",
       "    .dataframe tbody tr th {\n",
       "        vertical-align: top;\n",
       "    }\n",
       "\n",
       "    .dataframe thead th {\n",
       "        text-align: right;\n",
       "    }\n",
       "</style>\n",
       "<table border=\"1\" class=\"dataframe\">\n",
       "  <thead>\n",
       "    <tr style=\"text-align: right;\">\n",
       "      <th></th>\n",
       "      <th>ID</th>\n",
       "      <th>0</th>\n",
       "      <th>1</th>\n",
       "    </tr>\n",
       "  </thead>\n",
       "  <tbody>\n",
       "    <tr>\n",
       "      <th>0</th>\n",
       "      <td>20201116-121822IMG_0310-1 resized.jpg</td>\n",
       "      <td>-6.422555</td>\n",
       "      <td>-1.447713</td>\n",
       "    </tr>\n",
       "    <tr>\n",
       "      <th>1</th>\n",
       "      <td>20201116-131406IMG_8417-1 resized.jpg</td>\n",
       "      <td>-1.157465</td>\n",
       "      <td>-3.920088</td>\n",
       "    </tr>\n",
       "    <tr>\n",
       "      <th>2</th>\n",
       "      <td>20201116-142909IMG_2038-1 resized.jpg</td>\n",
       "      <td>0.653289</td>\n",
       "      <td>4.704874</td>\n",
       "    </tr>\n",
       "    <tr>\n",
       "      <th>3</th>\n",
       "      <td>one_30.jpg-1 resized.jpg</td>\n",
       "      <td>6.428168</td>\n",
       "      <td>-2.816422</td>\n",
       "    </tr>\n",
       "    <tr>\n",
       "      <th>4</th>\n",
       "      <td>20201116-123847IMG_7869-1 resized.jpg</td>\n",
       "      <td>-3.767290</td>\n",
       "      <td>3.507706</td>\n",
       "    </tr>\n",
       "  </tbody>\n",
       "</table>\n",
       "</div>"
      ],
      "text/plain": [
       "                                      ID         0         1\n",
       "0  20201116-121822IMG_0310-1 resized.jpg -6.422555 -1.447713\n",
       "1  20201116-131406IMG_8417-1 resized.jpg -1.157465 -3.920088\n",
       "2  20201116-142909IMG_2038-1 resized.jpg  0.653289  4.704874\n",
       "3               one_30.jpg-1 resized.jpg  6.428168 -2.816422\n",
       "4  20201116-123847IMG_7869-1 resized.jpg -3.767290  3.507706"
      ]
     },
     "execution_count": 122,
     "metadata": {},
     "output_type": "execute_result"
    }
   ],
   "source": [
    "df = pd.read_csv(\"results.csv\")\n",
    "print(\"Shape od data= \", df.shape)\n",
    "df.head()"
   ]
  },
  {
   "cell_type": "code",
   "execution_count": 123,
   "metadata": {},
   "outputs": [
    {
     "data": {
      "text/plain": [
       "<matplotlib.collections.PathCollection at 0x7f8fde2bd9d0>"
      ]
     },
     "execution_count": 123,
     "metadata": {},
     "output_type": "execute_result"
    },
    {
     "data": {
      "image/png": "[encoded data removed]",
      "text/plain": [
       "<Figure size 432x288 with 1 Axes>"
      ]
     },
     "metadata": {
      "needs_background": "light"
     },
     "output_type": "display_data"
    }
   ],
   "source": [
    "# Visualise the data \n",
    "plot_kwds = {'alpha' : 0.5, 's' : 80, 'linewidths':0}\n",
    "\n",
    "plt.scatter(df['0'], df['1'], color='b', **plot_kwds)"
   ]
  },
  {
   "cell_type": "markdown",
   "metadata": {},
   "source": [
    "# testing hdbscan "
   ]
  },
  {
   "cell_type": "code",
   "execution_count": 124,
   "metadata": {},
   "outputs": [],
   "source": [
    "db_test= pd.read_csv('results.csv', usecols = ['0', '1'])\n",
    "db_test.head()\n",
    "data = np.array(db_test)"
   ]
  },
  {
   "cell_type": "code",
   "execution_count": 125,
   "metadata": {
    "scrolled": true
   },
   "outputs": [
    {
     "data": {
      "text/plain": [
       "<matplotlib.collections.PathCollection at 0x7f8fde227150>"
      ]
     },
     "execution_count": 125,
     "metadata": {},
     "output_type": "execute_result"
    },
    {
     "data": {
      "image/png": "[encoded data removed]",
      "text/plain": [
       "<Figure size 432x288 with 1 Axes>"
      ]
     },
     "metadata": {
      "needs_background": "light"
     },
     "output_type": "display_data"
    }
   ],
   "source": [
    "plt.scatter(*data.T, s=50, linewidth=0, c='b', alpha=0.25)\n"
   ]
  },
  {
   "cell_type": "code",
   "execution_count": 126,
   "metadata": {},
   "outputs": [
    {
     "data": {
      "text/plain": [
       "<matplotlib.collections.PathCollection at 0x7f8fde227b10>"
      ]
     },
     "execution_count": 126,
     "metadata": {},
     "output_type": "execute_result"
    },
    {
     "data": {
      "image/png": "[encoded data removed]",
      "text/plain": [
       "<Figure size 432x288 with 1 Axes>"
      ]
     },
     "metadata": {
      "needs_background": "light"
     },
     "output_type": "display_data"
    }
   ],
   "source": [
    "\n",
    "clusterer = hdbscan.HDBSCAN(min_cluster_size=6).fit(data)\n",
    "color_palette = sns.color_palette('deep', 8)\n",
    "cluster_colors = [color_palette[x] if x >= 0\n",
    "                  else (0.5, 0.5, 0.5)\n",
    "                  for x in clusterer.labels_]\n",
    "cluster_member_colors = [sns.desaturate(x, p) for x, p in\n",
    "                         zip(cluster_colors, clusterer.probabilities_)]\n",
    "plt.scatter(*data.T, s=50, linewidth=0, c=cluster_member_colors, alpha=0.25)"
   ]
  },
  {
   "cell_type": "markdown",
   "metadata": {},
   "source": [
    "# see how the clusters look like in Tree format"
   ]
  },
  {
   "cell_type": "code",
   "execution_count": 127,
   "metadata": {},
   "outputs": [
    {
     "data": {
      "text/plain": [
       "<hdbscan.plots.CondensedTree at 0x7f8fddd5d690>"
      ]
     },
     "execution_count": 127,
     "metadata": {},
     "output_type": "execute_result"
    }
   ],
   "source": [
    "clusterer.condensed_tree_\n"
   ]
  },
  {
   "cell_type": "code",
   "execution_count": 128,
   "metadata": {},
   "outputs": [
    {
     "data": {
      "text/plain": [
       "<matplotlib.axes._subplots.AxesSubplot at 0x7f8fdddd0d90>"
      ]
     },
     "execution_count": 128,
     "metadata": {},
     "output_type": "execute_result"
    },
    {
     "data": {
      "image/png": "[encoded data removed]",
      "text/plain": [
       "<Figure size 432x288 with 2 Axes>"
      ]
     },
     "metadata": {
      "needs_background": "light"
     },
     "output_type": "display_data"
    }
   ],
   "source": [
    "clusterer.condensed_tree_.plot()\n"
   ]
  },
  {
   "cell_type": "code",
   "execution_count": 129,
   "metadata": {},
   "outputs": [
    {
     "data": {
      "text/plain": [
       "array([(137, 111, 0.31964016,   1), (137,  29, 0.34079093,   1),\n",
       "       (137,  60, 0.35371908,   1), (137, 138, 0.37614821,  23),\n",
       "       (137, 139, 0.37614821, 111), (138,  80, 0.37890784,   1),\n",
       "       (139,  45, 0.37646388,   1), (138, 129, 0.39547121,   1),\n",
       "       (139,  79, 0.38212042,   1), (138,  52, 0.41427797,   1),\n",
       "       (139, 105, 0.38212042,   1), (138,  66, 0.41668566,   1),\n",
       "       (139,  82, 0.3831334 ,   1), (138,  63, 0.42947722,   1),\n",
       "       (139, 121, 0.38977916,   1), (138,  26, 0.46022903,   1),\n",
       "       (139, 101, 0.39317641,   1), (138,  90, 0.47868289,   1),\n",
       "       (139, 140, 0.40553853,  12), (139, 141, 0.40553853,  93),\n",
       "       (138, 114, 0.58177634,   1), (140, 126, 0.45969931,   1),\n",
       "       (141,  68, 0.40720065,   1), (138,  57, 0.62062341,   1),\n",
       "       (140,  88, 0.50890447,   1), (141,  17, 0.41366083,   1),\n",
       "       (138, 106, 0.63027756,   1), (140,  53, 0.56751282,   1),\n",
       "       (141,  10, 0.4270164 ,   1), (138, 118, 0.64788083,   1),\n",
       "       (140,  15, 0.57906495,   1), (141,  61, 0.4278552 ,   1),\n",
       "       (138,  48, 0.65268888,   1), (140,  89, 0.72090403,   1),\n",
       "       (141, 108, 0.43081617,   1), (138, 100, 0.65337075,   1),\n",
       "       (140, 117, 0.74349245,   1), (141,   1, 0.44068763,   1),\n",
       "       (138,  71, 0.66254961,   1), (140,  56, 0.76140655,   1),\n",
       "       (140,   0, 0.76140655,   1), (140,  98, 0.76140655,   1),\n",
       "       (140,  50, 0.76140655,   1), (140,  84, 0.76140655,   1),\n",
       "       (140, 102, 0.76140655,   1), (141,  35, 0.44175615,   1),\n",
       "       (138,  18, 0.67271571,   1), (141,  28, 0.44651654,   1),\n",
       "       (138, 134, 0.68383092,   1), (141, 127, 0.4559175 ,   1),\n",
       "       (138,  55, 0.69715873,   1), (141,  21, 0.45756991,   1),\n",
       "       (138, 128, 0.70576732,   1), (138,   3, 0.70576732,   1),\n",
       "       (138,  58, 0.70576732,   1), (138, 107, 0.70576732,   1),\n",
       "       (138,  96, 0.70576732,   1), (138, 131, 0.70576732,   1),\n",
       "       (141,  24, 0.45845431,   1), (141,  33, 0.47316193,   1),\n",
       "       (141,  74, 0.48506783,   1), (141,  99, 0.48863798,   1),\n",
       "       (141,  69, 0.49086351,   1), (141,  59, 0.49086351,   1),\n",
       "       (141,  12, 0.49086351,   1), (141,  13, 0.49327115,   1),\n",
       "       (141,  85, 0.49577063,   1), (141,  76, 0.50377612,   1),\n",
       "       (141,   7, 0.52435203,   1), (141,   5, 0.52475312,   1),\n",
       "       (141,  47, 0.52915166,   1), (141, 120, 0.53238249,   1),\n",
       "       (141,   4, 0.53451413,   1), (141,  72, 0.53451413,   1),\n",
       "       (141, 113, 0.5374828 ,   1), (141, 130, 0.54372786,   1),\n",
       "       (141,  77, 0.54738134,   1), (141, 142, 0.54745913,   8),\n",
       "       (141, 143, 0.54745913,  56), (142,  62, 0.56104498,   1),\n",
       "       (143, 115, 0.54745913,   1), (142,  19, 0.56914347,   1),\n",
       "       (143, 144, 0.55210157,  34), (143, 145, 0.55210157,  21),\n",
       "       (142, 136, 0.63838494,   1), (142,  27, 0.63838494,   1),\n",
       "       (142,  67, 0.63838494,   1), (142,  40, 0.63838494,   1),\n",
       "       (142,  11, 0.63838494,   1), (142, 119, 0.63838494,   1),\n",
       "       (144,  22, 0.55210157,   1), (145,  30, 0.60407049,   1),\n",
       "       (145,  14, 0.60407049,   1), (145,  64, 0.60407049,   1),\n",
       "       (145, 109, 0.60407049,   1), (144,  36, 0.55485329,   1),\n",
       "       (145,  94, 0.62180153,   1), (144,  25, 0.55891647,   1),\n",
       "       (145,  91, 0.64564053,   1), (144,  41, 0.56018537,   1),\n",
       "       (145, 116, 0.67549699,   1), (144,  78, 0.56986051,   1),\n",
       "       (145,  42, 0.67549699,   1), (144,  83, 0.57758905,   1),\n",
       "       (145, 122, 0.7258938 ,   1), (144,  97, 0.57758905,   1),\n",
       "       (145, 110, 0.78022051,   1), (144,  73, 0.58139517,   1),\n",
       "       (145,  16, 0.78448536,   1), (144,  20, 0.58379366,   1),\n",
       "       (145,  43, 0.81429842,   1), (144,  93, 0.59112337,   1),\n",
       "       (145,  46, 0.83303629,   1), (144, 132, 0.59820545,   1),\n",
       "       (145, 103, 0.84673359,   1), (144, 133, 0.59887565,   1),\n",
       "       (145,  38, 0.88001719,   1), (144, 123, 0.61899483,   1),\n",
       "       (145,  51, 0.97900944,   1), (145,  49, 0.97900944,   1),\n",
       "       (145, 124, 0.97900944,   1), (145, 135, 0.97900944,   1),\n",
       "       (145,  31, 0.97900944,   1), (145,  86, 0.97900944,   1),\n",
       "       (144,   2, 0.64176857,   1), (144,  34, 0.64597969,   1),\n",
       "       (144,  81, 0.64597969,   1), (144, 112, 0.65291093,   1),\n",
       "       (144,  32, 0.67791955,   1), (144, 104, 0.68339268,   1),\n",
       "       (144,   6, 0.70620798,   1), (144,  75, 0.72183469,   1),\n",
       "       (144,  39, 0.7249014 ,   1), (144,  95, 0.72899617,   1),\n",
       "       (144,  54, 0.73652627,   1), (144,  44, 0.73858427,   1),\n",
       "       (144,  92, 0.73874053,   1), (144,  70, 0.74143114,   1),\n",
       "       (144,  37, 0.74143114,   1), (144,   8, 0.74651429,   1),\n",
       "       (144,  87, 0.74651429,   1), (144,  65, 0.74651429,   1),\n",
       "       (144,   9, 0.74651429,   1), (144, 125, 0.74651429,   1),\n",
       "       (144,  23, 0.74651429,   1)],\n",
       "      dtype=[('parent', '<i8'), ('child', '<i8'), ('lambda_val', '<f8'), ('child_size', '<i8')])"
      ]
     },
     "execution_count": 129,
     "metadata": {},
     "output_type": "execute_result"
    }
   ],
   "source": [
    "clusterer.condensed_tree_.to_numpy()\n"
   ]
  },
  {
   "cell_type": "code",
   "execution_count": 130,
   "metadata": {},
   "outputs": [
    {
     "data": {
      "text/plain": [
       "array([ 1,  2,  2,  0,  2,  2,  2,  2,  2,  2,  2,  2,  2,  2,  2,  1,  2,\n",
       "        2,  0,  2,  2,  2,  2,  2,  2,  2,  0,  2,  2, -1,  2,  2,  2,  2,\n",
       "        2,  2,  2,  2,  2,  2,  2,  2,  2,  2,  2, -1,  2,  2,  0,  2,  1,\n",
       "        2,  0,  1,  2,  0,  1,  0,  0,  2, -1,  2,  2,  0,  2,  2,  0,  2,\n",
       "        2,  2,  2,  0,  2,  2,  2,  2,  2,  2,  2, -1,  0,  2, -1,  2,  1,\n",
       "        2,  2,  2,  1,  1,  0,  2,  2,  2,  2,  2,  0,  2,  1,  2,  0, -1,\n",
       "        1,  2,  2, -1,  0,  0,  2,  2,  2, -1,  2,  2,  0,  2,  2,  1,  0,\n",
       "        2,  2, -1,  2,  2,  2,  2,  1,  2,  0,  0,  2,  0,  2,  2,  0,  2,\n",
       "        2])"
      ]
     },
     "execution_count": 130,
     "metadata": {},
     "output_type": "execute_result"
    }
   ],
   "source": [
    "clusterer.labels_\n"
   ]
  },
  {
   "cell_type": "code",
   "execution_count": 131,
   "metadata": {},
   "outputs": [
    {
     "data": {
      "text/plain": [
       "array([-1,  0,  1,  2])"
      ]
     },
     "execution_count": 131,
     "metadata": {},
     "output_type": "execute_result"
    }
   ],
   "source": [
    "np.unique(clusterer.labels_)"
   ]
  },
  {
   "cell_type": "markdown",
   "metadata": {},
   "source": [
    "# test new cluster size "
   ]
  },
  {
   "cell_type": "code",
   "execution_count": 139,
   "metadata": {},
   "outputs": [
    {
     "data": {
      "text/plain": [
       "<matplotlib.collections.PathCollection at 0x7f8fde11e150>"
      ]
     },
     "execution_count": 139,
     "metadata": {},
     "output_type": "execute_result"
    },
    {
     "data": {
      "image/png": "[encoded data removed]",
      "text/plain": [
       "<Figure size 432x288 with 1 Axes>"
      ]
     },
     "metadata": {
      "needs_background": "light"
     },
     "output_type": "display_data"
    }
   ],
   "source": [
    "clusterer_2 = hdbscan.HDBSCAN(min_cluster_size=4).fit(data)\n",
    "color_palette = sns.color_palette('deep', 8)\n",
    "cluster_colors = [color_palette[x] if x >= 0\n",
    "                  else (0.5, 0.5, 0.5)\n",
    "                  for x in clusterer_2.labels_]\n",
    "cluster_member_colors = [sns.desaturate(x, p) for x, p in\n",
    "                         zip(cluster_colors, clusterer_2.probabilities_)]\n",
    "plt.scatter(*data.T, s=50, linewidth=0, c=cluster_member_colors, alpha=0.25)"
   ]
  },
  {
   "cell_type": "code",
   "execution_count": 140,
   "metadata": {},
   "outputs": [
    {
     "data": {
      "text/plain": [
       "array([ 1, -1,  4,  0, -1,  4,  4, -1,  4,  4, -1,  3,  2, -1,  6,  1,  6,\n",
       "        4,  0,  3,  4,  5, -1,  4, -1,  4,  0,  3, -1, -1,  5,  6,  4,  5,\n",
       "        4, -1,  4,  4,  6,  4,  3,  4,  6,  6,  4, -1,  6,  5,  0,  6,  1,\n",
       "        6,  0,  1,  4,  0,  1,  0,  0,  2,  1,  4,  3,  0,  5,  4,  0,  3,\n",
       "       -1, -1,  4,  0,  3, -1, -1,  4, -1,  6,  4, -1,  0,  4, -1,  4,  1,\n",
       "        4,  6,  4,  1,  1,  0,  6,  4,  4,  6,  4,  0,  4,  1, -1,  0,  2,\n",
       "        1,  6,  4,  2,  0,  0,  3,  5,  6, -1,  4, -1,  0, -1,  6,  1,  0,\n",
       "        3, -1, -1,  6,  4,  6,  4,  1, -1,  0,  0,  3,  0,  4,  4,  0,  6,\n",
       "        3])"
      ]
     },
     "execution_count": 140,
     "metadata": {},
     "output_type": "execute_result"
    }
   ],
   "source": [
    "clusterer_2.labels_"
   ]
  },
  {
   "cell_type": "code",
   "execution_count": 141,
   "metadata": {},
   "outputs": [
    {
     "name": "stdout",
     "output_type": "stream",
     "text": [
      "the number of uniqe clusters: [-1  0  1  2  3  4  5  6]\n",
      "the length of cluster prediction:  137\n"
     ]
    }
   ],
   "source": [
    "print('the number of uniqe clusters:',np.unique(clusterer_2.labels_))\n",
    "print('the length of cluster prediction: ',len (clusterer_2.labels_))"
   ]
  },
  {
   "cell_type": "markdown",
   "metadata": {},
   "source": [
    "# Move files according to clusters "
   ]
  },
  {
   "cell_type": "code",
   "execution_count": 146,
   "metadata": {},
   "outputs": [],
   "source": [
    "import os\n",
    "import shutil\n",
    "import csv\n",
    "import sys\n",
    "import pandas as pd\n",
    "current = os.getcwd()\n",
    "\n",
    "os.mkdir('./HDBSCAN_clusters')"
   ]
  },
  {
   "cell_type": "code",
   "execution_count": 147,
   "metadata": {},
   "outputs": [
    {
     "name": "stdout",
     "output_type": "stream",
     "text": [
      "the length of image list:  137\n"
     ]
    },
    {
     "data": {
      "text/html": [
       "<div>\n",
       "<style scoped>\n",
       "    .dataframe tbody tr th:only-of-type {\n",
       "        vertical-align: middle;\n",
       "    }\n",
       "\n",
       "    .dataframe tbody tr th {\n",
       "        vertical-align: top;\n",
       "    }\n",
       "\n",
       "    .dataframe thead th {\n",
       "        text-align: right;\n",
       "    }\n",
       "</style>\n",
       "<table border=\"1\" class=\"dataframe\">\n",
       "  <thead>\n",
       "    <tr style=\"text-align: right;\">\n",
       "      <th></th>\n",
       "      <th>ID</th>\n",
       "    </tr>\n",
       "  </thead>\n",
       "  <tbody>\n",
       "    <tr>\n",
       "      <th>0</th>\n",
       "      <td>20201116-121822IMG_0310-1 resized.jpg</td>\n",
       "    </tr>\n",
       "    <tr>\n",
       "      <th>1</th>\n",
       "      <td>20201116-131406IMG_8417-1 resized.jpg</td>\n",
       "    </tr>\n",
       "    <tr>\n",
       "      <th>2</th>\n",
       "      <td>20201116-142909IMG_2038-1 resized.jpg</td>\n",
       "    </tr>\n",
       "    <tr>\n",
       "      <th>3</th>\n",
       "      <td>one_30.jpg-1 resized.jpg</td>\n",
       "    </tr>\n",
       "    <tr>\n",
       "      <th>4</th>\n",
       "      <td>20201116-123847IMG_7869-1 resized.jpg</td>\n",
       "    </tr>\n",
       "  </tbody>\n",
       "</table>\n",
       "</div>"
      ],
      "text/plain": [
       "                                      ID\n",
       "0  20201116-121822IMG_0310-1 resized.jpg\n",
       "1  20201116-131406IMG_8417-1 resized.jpg\n",
       "2  20201116-142909IMG_2038-1 resized.jpg\n",
       "3               one_30.jpg-1 resized.jpg\n",
       "4  20201116-123847IMG_7869-1 resized.jpg"
      ]
     },
     "execution_count": 147,
     "metadata": {},
     "output_type": "execute_result"
    }
   ],
   "source": [
    "col_list = [\"ID\"]\n",
    "image_data_list = pd.read_csv('results.csv', usecols=col_list)\n",
    "print('the length of image list: ',len(image_data_list))\n",
    "image_data_list.head()"
   ]
  },
  {
   "cell_type": "code",
   "execution_count": 175,
   "metadata": {},
   "outputs": [
    {
     "name": "stdout",
     "output_type": "stream",
     "text": [
      "./HDBSCAN_clusters/-1\n",
      "./HDBSCAN_clusters/0\n",
      "./HDBSCAN_clusters/1\n",
      "./HDBSCAN_clusters/2\n",
      "./HDBSCAN_clusters/3\n",
      "./HDBSCAN_clusters/4\n",
      "./HDBSCAN_clusters/5\n",
      "./HDBSCAN_clusters/6\n",
      "type source: <class 'list'> type destintaion:  <class 'list'>\n",
      "./images/['20201116-121822IMG_0310-1 resized.jpg']  ->  ./HDBSCAN_clusters/1\n",
      "./images/['20201116-131406IMG_8417-1 resized.jpg']  ->  ./HDBSCAN_clusters/-1\n",
      "./images/['20201116-142909IMG_2038-1 resized.jpg']  ->  ./HDBSCAN_clusters/4\n",
      "./images/['one_30.jpg-1 resized.jpg']  ->  ./HDBSCAN_clusters/0\n",
      "./images/['20201116-123847IMG_7869-1 resized.jpg']  ->  ./HDBSCAN_clusters/-1\n",
      "./images/['20201116-142800IMG_9078-1 resized.jpg']  ->  ./HDBSCAN_clusters/4\n",
      "./images/['20201116-140443IMG_1838-1 resized.jpg']  ->  ./HDBSCAN_clusters/4\n",
      "./images/['20201116-133429IMG_1588-1 resized.jpg']  ->  ./HDBSCAN_clusters/-1\n",
      "./images/['20201116-133908IMG_8576-1 resized.jpg']  ->  ./HDBSCAN_clusters/4\n",
      "./images/['20201116-142933IMG_2077-1 resized.jpg']  ->  ./HDBSCAN_clusters/4\n",
      "./images/['20201116-131918IMG_8261-1 resized.jpg']  ->  ./HDBSCAN_clusters/-1\n",
      "./images/['20201116-121934IMG_7569-1 resized.jpg']  ->  ./HDBSCAN_clusters/3\n",
      "./images/['one_36.jpg-1 resized.jpg']  ->  ./HDBSCAN_clusters/2\n",
      "./images/['20201116-131912IMG_8509-1 resized.jpg']  ->  ./HDBSCAN_clusters/-1\n",
      "./images/['20201116-135713IMG_8734-1 resized.jpg']  ->  ./HDBSCAN_clusters/6\n",
      "./images/['20201116-121838IMG_8025-1 resized.jpg']  ->  ./HDBSCAN_clusters/1\n",
      "./images/['20201116-131850IMG_8245-1 resized.jpg']  ->  ./HDBSCAN_clusters/6\n",
      "./images/['20201116-143804IMG_2207-1 resized.jpg']  ->  ./HDBSCAN_clusters/4\n",
      "./images/['one_10.jpg-1 resized.jpg']  ->  ./HDBSCAN_clusters/0\n",
      "./images/['20201116-123844IMG_0806-1 resized.jpg']  ->  ./HDBSCAN_clusters/3\n",
      "./images/['20201116-143537IMG_9197-2 resized.jpg']  ->  ./HDBSCAN_clusters/4\n",
      "./images/['20201116-132208IMG_8520-1 resized.jpg']  ->  ./HDBSCAN_clusters/5\n",
      "./images/['20201116-134955IMG_8665-1 resized.jpg']  ->  ./HDBSCAN_clusters/-1\n",
      "./images/['20201116-143519IMG_2152-1 resized.jpg']  ->  ./HDBSCAN_clusters/4\n",
      "./images/['20201116-131927IMG_8274-1 resized.jpg']  ->  ./HDBSCAN_clusters/-1\n",
      "./images/['20201116-142738IMG_9055-1 resized.jpg']  ->  ./HDBSCAN_clusters/4\n",
      "./images/['one_15.jpg-1 resized.jpg']  ->  ./HDBSCAN_clusters/0\n",
      "./images/['20201116-121834IMG_0326-1 resized.jpg']  ->  ./HDBSCAN_clusters/3\n",
      "./images/['20201116-142738IMG_9051-3 resized.jpg']  ->  ./HDBSCAN_clusters/-1\n",
      "./images/['20201116-143343IMG_9160-2 resized.jpg']  ->  ./HDBSCAN_clusters/-1\n",
      "./images/['20201116-132422IMG_1423-1 resized.jpg']  ->  ./HDBSCAN_clusters/5\n",
      "./images/['20201116-131602IMG_1256-1 resized.jpg']  ->  ./HDBSCAN_clusters/6\n",
      "./images/['20201116-143152IMG_9143-1 resized.jpg']  ->  ./HDBSCAN_clusters/4\n",
      "./images/['20201116-132419IMG_8536-1 resized.jpg']  ->  ./HDBSCAN_clusters/5\n",
      "./images/['20201116-125207IMG_8068-1 resized.jpg']  ->  ./HDBSCAN_clusters/4\n",
      "./images/['20201116-125049IMG_8300-1 resized.jpg']  ->  ./HDBSCAN_clusters/-1\n",
      "./images/['20201116-123858IMG_0840-1 resized.jpg']  ->  ./HDBSCAN_clusters/4\n",
      "./images/['20201116-142921IMG_2064-1 resized.jpg']  ->  ./HDBSCAN_clusters/4\n",
      "./images/['20201116-131848IMG_1303-1 resized.jpg']  ->  ./HDBSCAN_clusters/6\n",
      "./images/['20201116-121440IMG_0244-1 resized.jpg']  ->  ./HDBSCAN_clusters/4\n",
      "./images/['20201116-121934IMG_9592-1 resized.jpg']  ->  ./HDBSCAN_clusters/3\n",
      "./images/['20201116-125204IMG_1079-1 resized.jpg']  ->  ./HDBSCAN_clusters/4\n",
      "./images/['20201116-132752IMG_1528-1 resized.jpg']  ->  ./HDBSCAN_clusters/6\n",
      "./images/['20201116-131902IMG_1318-1 resized.jpg']  ->  ./HDBSCAN_clusters/6\n",
      "./images/['20201116-142940IMG_2087-1 resized.jpg']  ->  ./HDBSCAN_clusters/4\n",
      "./images/['one_16.jpg-1 resized.jpg']  ->  ./HDBSCAN_clusters/-1\n",
      "./images/['20201116-131549IMG_8174-1 resized.jpg']  ->  ./HDBSCAN_clusters/6\n",
      "./images/['20201116-131436IMG_8137-1 resized.jpg']  ->  ./HDBSCAN_clusters/5\n",
      "./images/['one_5.jpg-1 resized.jpg']  ->  ./HDBSCAN_clusters/0\n",
      "./images/['20201116-131533IMG_1231-1 resized.jpg']  ->  ./HDBSCAN_clusters/6\n",
      "./images/['20201116-121819IMG_7986-1 resized.jpg']  ->  ./HDBSCAN_clusters/1\n",
      "./images/['20201116-131831IMG_8238-1 resized.jpg']  ->  ./HDBSCAN_clusters/6\n",
      "./images/['one_14.jpg-1 resized.jpg']  ->  ./HDBSCAN_clusters/0\n",
      "./images/['20201116-121820IMG_7537-1 resized.jpg']  ->  ./HDBSCAN_clusters/1\n",
      "./images/['20201116-135432IMG_8765-1 resized.jpg']  ->  ./HDBSCAN_clusters/4\n",
      "./images/['one_37.jpg-1 resized.jpg']  ->  ./HDBSCAN_clusters/0\n",
      "./images/['20201116-121129IMG_7904-1 resized.jpg']  ->  ./HDBSCAN_clusters/1\n",
      "./images/['one_28.jpg-1 resized.jpg']  ->  ./HDBSCAN_clusters/0\n",
      "./images/['one_39.jpg-1 resized.jpg']  ->  ./HDBSCAN_clusters/0\n",
      "./images/['one_26.jpg-1 resized.jpg']  ->  ./HDBSCAN_clusters/2\n",
      "./images/['20201116-121134IMG_0182-1 resized.jpg']  ->  ./HDBSCAN_clusters/1\n",
      "./images/['20201116-142738IMG_9051-1 resized.jpg']  ->  ./HDBSCAN_clusters/4\n",
      "./images/['20201116-121837IMG_9564-1 resized.jpg']  ->  ./HDBSCAN_clusters/3\n",
      "./images/['one_22.jpg-1 resized.jpg']  ->  ./HDBSCAN_clusters/0\n",
      "./images/['20201116-132431IMG_1435-1 resized.jpg']  ->  ./HDBSCAN_clusters/5\n",
      "./images/['20201116-144009IMG_9264-1 resized.jpg']  ->  ./HDBSCAN_clusters/4\n",
      "./images/['one_23.jpg-1 resized.jpg']  ->  ./HDBSCAN_clusters/0\n",
      "./images/['20201116-121847IMG_9587-1 resized.jpg']  ->  ./HDBSCAN_clusters/3\n",
      "./images/['20201116-132133IMG_1369-1 resized.jpg']  ->  ./HDBSCAN_clusters/-1\n",
      "./images/['one_33.jpg-1 resized.jpg']  ->  ./HDBSCAN_clusters/-1\n",
      "./images/['20201116-142850IMG_2027-1 resized.jpg']  ->  ./HDBSCAN_clusters/4\n",
      "./images/['one_0.jpg-1 resized.jpg']  ->  ./HDBSCAN_clusters/0\n",
      "./images/['20201116-135554IMG_8779-1 resized.jpg']  ->  ./HDBSCAN_clusters/3\n",
      "./images/['20201116-141641IMG_1921-1 resized.jpg']  ->  ./HDBSCAN_clusters/-1\n",
      "./images/['20201116-121830IMG_8002-1 resized.jpg']  ->  ./HDBSCAN_clusters/-1\n",
      "./images/['20201116-143521IMG_9181-1 resized.jpg']  ->  ./HDBSCAN_clusters/4\n",
      "./images/['one_34.jpg-1 resized.jpg']  ->  ./HDBSCAN_clusters/-1\n",
      "./images/['20201116-131410IMG_1156-1 resized.jpg']  ->  ./HDBSCAN_clusters/6\n",
      "./images/['20201116-143758IMG_9236-1 resized.jpg']  ->  ./HDBSCAN_clusters/4\n",
      "./images/['one_2.jpg-1 resized.jpg']  ->  ./HDBSCAN_clusters/-1\n",
      "./images/['one_38.jpg-1 resized.jpg']  ->  ./HDBSCAN_clusters/0\n",
      "./images/['20201116-140445IMG_8891-1 resized.jpg']  ->  ./HDBSCAN_clusters/4\n",
      "./images/['20201116-132752IMG_1528-2 resized.jpg']  ->  ./HDBSCAN_clusters/-1\n",
      "./images/['20201116-142745IMG_9061-1 resized.jpg']  ->  ./HDBSCAN_clusters/4\n",
      "./images/['20201116-121825IMG_7543-1 resized.jpg']  ->  ./HDBSCAN_clusters/1\n",
      "./images/['20201116-143343IMG_9160-1 resized.jpg']  ->  ./HDBSCAN_clusters/4\n",
      "./images/['20201116-131547IMG_1244-1 resized.jpg']  ->  ./HDBSCAN_clusters/6\n",
      "./images/['20201116-135002IMG_8661-1 resized.jpg']  ->  ./HDBSCAN_clusters/4\n",
      "./images/['20201116-121132IMG_0168-1 resized.jpg']  ->  ./HDBSCAN_clusters/1\n",
      "./images/['20201116-121835IMG_8015-1 resized.jpg']  ->  ./HDBSCAN_clusters/1\n",
      "./images/['one_3.jpg-1 resized.jpg']  ->  ./HDBSCAN_clusters/0\n",
      "./images/['20201116-131340IMG_8098-1 resized.jpg']  ->  ./HDBSCAN_clusters/6\n",
      "./images/['20201116-125052IMG_1049-1 resized.jpg']  ->  ./HDBSCAN_clusters/4\n",
      "./images/['20201116-143722IMG_8917-1 resized.jpg']  ->  ./HDBSCAN_clusters/4\n",
      "./images/['20201116-135149IMG_1718-1 resized.jpg']  ->  ./HDBSCAN_clusters/6\n",
      "./images/['20201116-143516IMG_8877-1 resized.jpg']  ->  ./HDBSCAN_clusters/4\n",
      "./images/['one_8.jpg-1 resized.jpg']  ->  ./HDBSCAN_clusters/0\n",
      "./images/['20201116-125113IMG_8313-1 resized.jpg']  ->  ./HDBSCAN_clusters/4\n",
      "./images/['20201116-121842IMG_0346-1 resized.jpg']  ->  ./HDBSCAN_clusters/1\n",
      "./images/['one_29.jpg-1 resized.jpg']  ->  ./HDBSCAN_clusters/-1\n",
      "./images/['one_21.jpg-1 resized.jpg']  ->  ./HDBSCAN_clusters/0\n",
      "./images/['one_1.jpg-1 resized.jpg']  ->  ./HDBSCAN_clusters/2\n",
      "./images/['20201116-121828IMG_9557-1 resized.jpg']  ->  ./HDBSCAN_clusters/1\n",
      "./images/['20201116-131904IMG_8255-1 resized.jpg']  ->  ./HDBSCAN_clusters/6\n",
      "./images/['20201116-135041IMG_1697-1 resized.jpg']  ->  ./HDBSCAN_clusters/4\n",
      "./images/['one_11.jpg-1 resized.jpg']  ->  ./HDBSCAN_clusters/2\n",
      "./images/['one_24.jpg-1 resized.jpg']  ->  ./HDBSCAN_clusters/0\n",
      "./images/['one_31.jpg-1 resized.jpg']  ->  ./HDBSCAN_clusters/0\n",
      "./images/['20201116-121836IMG_7551-1 resized.jpg']  ->  ./HDBSCAN_clusters/3\n",
      "./images/['20201116-132319IMG_1387-1 resized.jpg']  ->  ./HDBSCAN_clusters/5\n",
      "./images/['20201116-134954IMG_8655-1 resized.jpg']  ->  ./HDBSCAN_clusters/6\n",
      "./images/['one_16.jpg-2 resized.jpg']  ->  ./HDBSCAN_clusters/-1\n",
      "./images/['20201116-135040IMG_8679-1 resized.jpg']  ->  ./HDBSCAN_clusters/4\n",
      "./images/['20201116-142727IMG_9047-1 resized.jpg']  ->  ./HDBSCAN_clusters/-1\n",
      "./images/['one_13.jpg-1 resized.jpg']  ->  ./HDBSCAN_clusters/0\n",
      "./images/['20201116-131319IMG_1111-1 resized.jpg']  ->  ./HDBSCAN_clusters/-1\n",
      "./images/['20201116-131925IMG_1349-1 resized.jpg']  ->  ./HDBSCAN_clusters/6\n",
      "./images/['20201116-121818IMG_0298-1 resized.jpg']  ->  ./HDBSCAN_clusters/1\n",
      "./images/['one_32.jpg-1 resized.jpg']  ->  ./HDBSCAN_clusters/0\n",
      "./images/['20201116-123757IMG_0766-1 resized.jpg']  ->  ./HDBSCAN_clusters/3\n",
      "./images/['20201116-131459IMG_8148-1 resized.jpg']  ->  ./HDBSCAN_clusters/-1\n",
      "./images/['20201116-131434IMG_1188-1 resized.jpg']  ->  ./HDBSCAN_clusters/-1\n",
      "./images/['20201116-131338IMG_1129-1 resized.jpg']  ->  ./HDBSCAN_clusters/6\n",
      "./images/['20201116-143537IMG_9197-1 resized.jpg']  ->  ./HDBSCAN_clusters/4\n",
      "./images/['20201116-131916IMG_1335-1 resized.jpg']  ->  ./HDBSCAN_clusters/6\n",
      "./images/['20201116-143524IMG_9186-1 resized.jpg']  ->  ./HDBSCAN_clusters/4\n",
      "./images/['20201116-121319IMG_7493-1 resized.jpg']  ->  ./HDBSCAN_clusters/1\n",
      "./images/['20201116-143343IMG_9160-3 resized.jpg']  ->  ./HDBSCAN_clusters/-1\n",
      "./images/['one_7.jpg-1 resized.jpg']  ->  ./HDBSCAN_clusters/0\n",
      "./images/['one_35.jpg-1 resized.jpg']  ->  ./HDBSCAN_clusters/0\n",
      "./images/['20201116-121928IMG_8044-1 resized.jpg']  ->  ./HDBSCAN_clusters/3\n",
      "./images/['one_20.jpg-1 resized.jpg']  ->  ./HDBSCAN_clusters/0\n",
      "./images/['20201116-142743IMG_1999-1 resized.jpg']  ->  ./HDBSCAN_clusters/4\n",
      "./images/['20201116-142758IMG_2015-1 resized.jpg']  ->  ./HDBSCAN_clusters/4\n",
      "./images/['one_18.jpg-1 resized.jpg']  ->  ./HDBSCAN_clusters/0\n",
      "./images/['20201116-131427IMG_1176-1 resized.jpg']  ->  ./HDBSCAN_clusters/6\n",
      "./images/['20201116-121932IMG_0365-1 resized.jpg']  ->  ./HDBSCAN_clusters/3\n"
     ]
    }
   ],
   "source": [
    "current = os.getcwd()\n",
    "for clusters in np.unique(clusterer_2.labels_):\n",
    "    folder = str(clusters)\n",
    "#     os.mkdir('./HDBSCAN_clusters/folder')\n",
    "    print('./HDBSCAN_clusters/'+folder)\n",
    "\n",
    "source = image_data_list.values.tolist()\n",
    "destintaion= clusterer_2.labels_.tolist()\n",
    "print('type source:',type(source),\"type destintaion: \",type(destintaion))\n",
    "destintaion_path = './HDBSCAN_clusters/'\n",
    "\n",
    "# moving files to clusters \n",
    "\n",
    "for i in range(len(source)):\n",
    "    s = './images/'+str(source[i])\n",
    "    d = './HDBSCAN_clusters/'+str(destintaion[i])\n",
    "    print(s , ' -> ' ,d)\n",
    "    \n",
    "\n"
   ]
  },
  {
   "cell_type": "code",
   "execution_count": null,
   "metadata": {},
   "outputs": [],
   "source": []
  }
 ],
 "metadata": {
  "kernelspec": {
   "display_name": "Python 3",
   "language": "python",
   "name": "python3"
  },
  "language_info": {
   "codemirror_mode": {
    "name": "ipython",
    "version": 3
   },
   "file_extension": ".py",
   "mimetype": "text/x-python",
   "name": "python",
   "nbconvert_exporter": "python",
   "pygments_lexer": "ipython3",
   "version": "3.7.6"
  }
 },
 "nbformat": 4,
 "nbformat_minor": 4
}
