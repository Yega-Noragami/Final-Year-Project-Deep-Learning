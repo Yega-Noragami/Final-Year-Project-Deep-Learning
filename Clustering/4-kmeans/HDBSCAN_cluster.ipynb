{
 "cells": [
  {
   "cell_type": "markdown",
   "metadata": {},
   "source": [
    "# Import necessary Libraries "
   ]
  },
  {
   "cell_type": "code",
   "execution_count": 1,
   "metadata": {},
   "outputs": [],
   "source": [
    "import pandas as pd\n",
    "import numpy as np\n",
    "import matplotlib.pyplot as plt\n",
    "from sklearn.cluster import KMeans\n",
    "import numpy as np\n",
    "import seaborn as sns\n",
    "import sklearn.datasets as data\n",
    "import csv\n",
    "\n",
    "#HDBSCAN\n",
    "\n",
    "import hdbscan"
   ]
  },
  {
   "cell_type": "markdown",
   "metadata": {},
   "source": [
    "# Import the data and visualise it "
   ]
  },
  {
   "cell_type": "code",
   "execution_count": 2,
   "metadata": {},
   "outputs": [
    {
     "name": "stdout",
     "output_type": "stream",
     "text": [
      "Shape od data=  (211, 3)\n"
     ]
    },
    {
     "data": {
      "text/html": [
       "<div>\n",
       "<style scoped>\n",
       "    .dataframe tbody tr th:only-of-type {\n",
       "        vertical-align: middle;\n",
       "    }\n",
       "\n",
       "    .dataframe tbody tr th {\n",
       "        vertical-align: top;\n",
       "    }\n",
       "\n",
       "    .dataframe thead th {\n",
       "        text-align: right;\n",
       "    }\n",
       "</style>\n",
       "<table border=\"1\" class=\"dataframe\">\n",
       "  <thead>\n",
       "    <tr style=\"text-align: right;\">\n",
       "      <th></th>\n",
       "      <th>ID</th>\n",
       "      <th>0</th>\n",
       "      <th>1</th>\n",
       "    </tr>\n",
       "  </thead>\n",
       "  <tbody>\n",
       "    <tr>\n",
       "      <th>0</th>\n",
       "      <td>one_42.jpg-1.jpg-1.jpg</td>\n",
       "      <td>-11.428161</td>\n",
       "      <td>-0.324799</td>\n",
       "    </tr>\n",
       "    <tr>\n",
       "      <th>1</th>\n",
       "      <td>20201116-131916IMG_1335-1.jpg</td>\n",
       "      <td>4.993661</td>\n",
       "      <td>-0.444068</td>\n",
       "    </tr>\n",
       "    <tr>\n",
       "      <th>2</th>\n",
       "      <td>20201116-132319IMG_1387-1.jpg</td>\n",
       "      <td>12.597679</td>\n",
       "      <td>2.612981</td>\n",
       "    </tr>\n",
       "    <tr>\n",
       "      <th>3</th>\n",
       "      <td>20201116-121847IMG_9587-1.jpg</td>\n",
       "      <td>12.962786</td>\n",
       "      <td>-4.636863</td>\n",
       "    </tr>\n",
       "    <tr>\n",
       "      <th>4</th>\n",
       "      <td>20201116-143348_DSC0072-1.jpg</td>\n",
       "      <td>-3.517240</td>\n",
       "      <td>-0.069127</td>\n",
       "    </tr>\n",
       "  </tbody>\n",
       "</table>\n",
       "</div>"
      ],
      "text/plain": [
       "                              ID          0         1\n",
       "0         one_42.jpg-1.jpg-1.jpg -11.428161 -0.324799\n",
       "1  20201116-131916IMG_1335-1.jpg   4.993661 -0.444068\n",
       "2  20201116-132319IMG_1387-1.jpg  12.597679  2.612981\n",
       "3  20201116-121847IMG_9587-1.jpg  12.962786 -4.636863\n",
       "4  20201116-143348_DSC0072-1.jpg  -3.517240 -0.069127"
      ]
     },
     "execution_count": 2,
     "metadata": {},
     "output_type": "execute_result"
    }
   ],
   "source": [
    "df = pd.read_csv(\"tsne-reduced.csv\")\n",
    "print(\"Shape od data= \", df.shape)\n",
    "df.head()"
   ]
  },
  {
   "cell_type": "code",
   "execution_count": 3,
   "metadata": {},
   "outputs": [
    {
     "data": {
      "text/plain": [
       "<matplotlib.collections.PathCollection at 0x7f59a8eefe90>"
      ]
     },
     "execution_count": 3,
     "metadata": {},
     "output_type": "execute_result"
    },
    {
     "data": {
      "image/png": "[encoded data removed]",
      "text/plain": [
       "<Figure size 432x288 with 1 Axes>"
      ]
     },
     "metadata": {
      "needs_background": "light"
     },
     "output_type": "display_data"
    }
   ],
   "source": [
    "# Visualise the data \n",
    "plot_kwds = {'alpha' : 0.5, 's' : 80, 'linewidths':0}\n",
    "\n",
    "plt.scatter(df['0'], df['1'], color='b', **plot_kwds)"
   ]
  },
  {
   "cell_type": "markdown",
   "metadata": {},
   "source": [
    "# testing hdbscan "
   ]
  },
  {
   "cell_type": "code",
   "execution_count": 4,
   "metadata": {},
   "outputs": [],
   "source": [
    "db_test= pd.read_csv('tsne-reduced.csv', usecols = ['0', '1'])\n",
    "db_test.head()\n",
    "data = np.array(db_test)"
   ]
  },
  {
   "cell_type": "code",
   "execution_count": 5,
   "metadata": {
    "scrolled": true
   },
   "outputs": [
    {
     "data": {
      "text/plain": [
       "<matplotlib.collections.PathCollection at 0x7f59a8ec35d0>"
      ]
     },
     "execution_count": 5,
     "metadata": {},
     "output_type": "execute_result"
    },
    {
     "data": {
      "image/png": "[encoded data removed]",
      "text/plain": [
       "<Figure size 432x288 with 1 Axes>"
      ]
     },
     "metadata": {
      "needs_background": "light"
     },
     "output_type": "display_data"
    }
   ],
   "source": [
    "plt.scatter(*data.T, s=50, linewidth=0, c='b', alpha=0.25)\n"
   ]
  },
  {
   "cell_type": "code",
   "execution_count": 63,
   "metadata": {},
   "outputs": [
    {
     "data": {
      "text/plain": [
       "<matplotlib.collections.PathCollection at 0x7f59a7b6f350>"
      ]
     },
     "execution_count": 63,
     "metadata": {},
     "output_type": "execute_result"
    },
    {
     "data": {
      "image/png": "[encoded data removed]",
      "text/plain": [
       "<Figure size 432x288 with 1 Axes>"
      ]
     },
     "metadata": {
      "needs_background": "light"
     },
     "output_type": "display_data"
    }
   ],
   "source": [
    "\n",
    "clusterer = hdbscan.HDBSCAN(min_cluster_size=6,min_samples=4).fit(data)\n",
    "color_palette = sns.color_palette('dark', 8)\n",
    "cluster_colors = [color_palette[x] if x >= 0\n",
    "                  else (0.5, 0.5, 0.5)\n",
    "                  for x in clusterer.labels_]\n",
    "cluster_member_colors = [sns.desaturate(x, p) for x, p in\n",
    "                         zip(cluster_colors, clusterer.probabilities_)]\n",
    "plt.scatter(*data.T, s=50, linewidth=0, c=cluster_member_colors, alpha=0.25)"
   ]
  },
  {
   "cell_type": "markdown",
   "metadata": {},
   "source": [
    "# see how the clusters look like in Tree format"
   ]
  },
  {
   "cell_type": "code",
   "execution_count": 22,
   "metadata": {},
   "outputs": [
    {
     "data": {
      "text/plain": [
       "<hdbscan.plots.CondensedTree at 0x7f59a86e8e10>"
      ]
     },
     "execution_count": 22,
     "metadata": {},
     "output_type": "execute_result"
    }
   ],
   "source": [
    "clusterer.condensed_tree_\n"
   ]
  },
  {
   "cell_type": "code",
   "execution_count": 23,
   "metadata": {},
   "outputs": [
    {
     "data": {
      "text/plain": [
       "<matplotlib.axes._subplots.AxesSubplot at 0x7f59a86ee250>"
      ]
     },
     "execution_count": 23,
     "metadata": {},
     "output_type": "execute_result"
    },
    {
     "data": {
      "image/png": "[encoded data removed]",
      "text/plain": [
       "<Figure size 432x288 with 2 Axes>"
      ]
     },
     "metadata": {
      "needs_background": "light"
     },
     "output_type": "display_data"
    }
   ],
   "source": [
    "clusterer.condensed_tree_.plot()\n"
   ]
  },
  {
   "cell_type": "code",
   "execution_count": 24,
   "metadata": {},
   "outputs": [
    {
     "data": {
      "text/plain": [
       "array([(211, 101, 0.16443966,   1), (211, 172, 0.1663769 ,   1),\n",
       "       (211,  19, 0.16705015,   1), (211,  76, 0.20614417,   1),\n",
       "       (211, 155, 0.20717631,   1), (211, 191, 0.21153953,   1),\n",
       "       (211,  24, 0.21390119,   1), (211, 192, 0.22034748,   1),\n",
       "       (211,  47, 0.22379547,   1), (211, 146, 0.22391209,   1),\n",
       "       (211,  53, 0.22853189,   1), (211, 126, 0.23477895,   1),\n",
       "       (211,  83, 0.2431394 ,   1), (211, 121, 0.24893344,   1),\n",
       "       (211,  82, 0.25220697,   1), (211,  25, 0.25355701,   1),\n",
       "       (211, 163, 0.26613977,   1), (211,  48, 0.26684849,   1),\n",
       "       (211,  42, 0.26723461,   1), (211,  57, 0.26752303,   1),\n",
       "       (211, 175, 0.27181001,   1), (211, 142, 0.27264685,   1),\n",
       "       (211, 168, 0.27374536,   1), (211,  59, 0.28142442,   1),\n",
       "       (211, 115, 0.28337656,   1), (211, 127, 0.28631909,   1),\n",
       "       (211, 188, 0.28743416,   1), (211,  64, 0.29362774,   1),\n",
       "       (211,  51, 0.29395009,   1), (211, 138, 0.29476454,   1),\n",
       "       (211, 206, 0.29650529,   1), (211,  14, 0.30001754,   1),\n",
       "       (211,  43, 0.30317299,   1), (211,  62, 0.3066024 ,   1),\n",
       "       (211,  78, 0.31313365,   1), (211, 162, 0.31561623,   1),\n",
       "       (211, 141, 0.31610331,   1), (211, 183, 0.31837494,   1),\n",
       "       (211, 134, 0.3195899 ,   1), (211,  58, 0.32202258,   1),\n",
       "       (211,  67, 0.32244755,   1), (211,  89, 0.32559639,   1),\n",
       "       (211, 150, 0.3259452 ,   1), (211, 187, 0.32701951,   1),\n",
       "       (211, 159, 0.32781777,   1), (211,  92, 0.32889072,   1),\n",
       "       (211,  74, 0.32892492,   1), (211,  30, 0.32954901,   1),\n",
       "       (211, 131, 0.33106793,   1), (211, 212, 0.33890174,  22),\n",
       "       (211, 213, 0.33890174, 140), (212,  26, 0.35894446,   1),\n",
       "       (213, 177, 0.34035966,   1), (212, 166, 0.39553494,   1),\n",
       "       (213, 148, 0.34150296,   1), (212, 143, 0.39553494,   1),\n",
       "       (213, 109, 0.34150296,   1), (212, 194, 0.39613042,   1),\n",
       "       (213, 129, 0.34656394,   1), (212,  12, 0.4064351 ,   1),\n",
       "       (213,  73, 0.3499086 ,   1), (212, 108, 0.41535951,   1),\n",
       "       (213,  91, 0.34995638,   1), (212,  28, 0.41952941,   1),\n",
       "       (213, 158, 0.35027101,   1), (212,  21, 0.41952941,   1),\n",
       "       (213,  95, 0.35243617,   1), (212, 196, 0.42607819,   1),\n",
       "       (213,  87, 0.35529018,   1), (212, 145, 0.43764019,   1),\n",
       "       (213, 147, 0.35621632,   1), (212, 195, 0.44148656,   1),\n",
       "       (213, 185, 0.35735283,   1), (212, 139, 0.44377004,   1),\n",
       "       (213,   8, 0.36367883,   1), (212,  29, 0.44430218,   1),\n",
       "       (213,  77, 0.36675398,   1), (212,  90, 0.46204473,   1),\n",
       "       (213,  44, 0.36675398,   1), (212,  15, 0.46718434,   1),\n",
       "       (213,   0, 0.36773727,   1), (212, 110, 0.49129902,   1),\n",
       "       (213, 178, 0.36960775,   1), (212,  31, 0.4996302 ,   1),\n",
       "       (212, 197, 0.4996302 ,   1), (212, 164, 0.4996302 ,   1),\n",
       "       (212, 182, 0.4996302 ,   1), (212, 137, 0.4996302 ,   1),\n",
       "       (212, 205, 0.4996302 ,   1), (213, 112, 0.3696936 ,   1),\n",
       "       (213,  94, 0.37297976,   1), (213, 103, 0.37357949,   1),\n",
       "       (213,  16, 0.3754823 ,   1), (213,  34, 0.37793835,   1),\n",
       "       (213,  71, 0.38263556,   1), (213, 113, 0.38476663,   1),\n",
       "       (213, 214, 0.38688084,   7), (213, 215, 0.38688084, 110),\n",
       "       (214, 133, 0.38688084,   1), (215,  56, 0.38811281,   1),\n",
       "       (214, 124, 0.39207808,   1), (214,  36, 0.39207808,   1),\n",
       "       (214,  33, 0.39207808,   1), (214,  61, 0.39207808,   1),\n",
       "       (214,  40, 0.39207808,   1), (214, 107, 0.39207808,   1),\n",
       "       (215, 202, 0.3896715 ,   1), (215,  86, 0.39128094,   1),\n",
       "       (215, 106, 0.39225979,   1), (215, 204, 0.39524688,   1),\n",
       "       (215, 151, 0.39871378,   1), (215,  38, 0.39939442,   1),\n",
       "       (215,  22, 0.39939442,   1), (215,   5, 0.39986166,   1),\n",
       "       (215, 216, 0.40338602,  54), (215, 217, 0.40338602,  47),\n",
       "       (216, 200, 0.40338602,   1), (217, 174, 0.40684806,   1),\n",
       "       (216,  66, 0.4041465 ,   1), (217,  97, 0.40711086,   1),\n",
       "       (216,  37, 0.41692979,   1), (217, 203, 0.41196364,   1),\n",
       "       (216,  65, 0.41692979,   1), (217, 104, 0.41658749,   1),\n",
       "       (216, 156, 0.41738399,   1), (217,  32, 0.41658749,   1),\n",
       "       (216, 128, 0.41883446,   1), (217,  70, 0.41787324,   1),\n",
       "       (216,  96, 0.41967621,   1), (217,  41, 0.41787324,   1),\n",
       "       (216, 105, 0.42343513,   1), (217, 186, 0.4239254 ,   1),\n",
       "       (216,  72, 0.42640766,   1), (217, 218, 0.42403169,   7),\n",
       "       (217, 219, 0.42403169,  32), (216, 189, 0.42870287,   1),\n",
       "       (218,  18, 0.42403169,   1), (219, 132, 0.43972948,   1),\n",
       "       (216, 102, 0.42878493,   1), (218, 119, 0.45335719,   1),\n",
       "       (218,   7, 0.45335719,   1), (218, 167, 0.45335719,   1),\n",
       "       (218, 111, 0.45335719,   1), (218,   2, 0.45335719,   1),\n",
       "       (218, 100, 0.45335719,   1), (219, 144, 0.4403415 ,   1),\n",
       "       (216, 118, 0.42972243,   1), (219, 179, 0.44411052,   1),\n",
       "       (219,   3, 0.44411052,   1), (219, 193, 0.44411052,   1),\n",
       "       (216,   6, 0.43269436,   1), (219, 140, 0.44411052,   1),\n",
       "       (216,  23, 0.43804899,   1), (219, 165, 0.44411052,   1),\n",
       "       (216, 149, 0.44358602,   1), (219,  17, 0.45103084,   1),\n",
       "       (216, 123, 0.44395297,   1), (219,  45, 0.45302157,   1),\n",
       "       (216, 161, 0.44395297,   1), (219,  63, 0.45496407,   1),\n",
       "       (216,  20, 0.44533836,   1), (219, 190, 0.46085213,   1),\n",
       "       (219, 181, 0.46085213,   1), (219,  39, 0.46085213,   1),\n",
       "       (219,  80, 0.46085213,   1), (219, 184, 0.46085213,   1),\n",
       "       (216, 135, 0.44572227,   1), (216,  93, 0.44572227,   1),\n",
       "       (216,  55, 0.44572227,   1), (219, 169, 0.46085213,   1),\n",
       "       (216,  60, 0.45068152,   1), (219,  13, 0.48342498,   1),\n",
       "       (216,   4, 0.45618665,   1), (219,  10, 0.49480899,   1),\n",
       "       (216, 120, 0.45618665,   1), (219, 210, 0.49955422,   1),\n",
       "       (216, 180, 0.45862438,   1), (219,  49, 0.50270734,   1),\n",
       "       (216, 154, 0.45935104,   1), (219,  75, 0.54779385,   1),\n",
       "       (216, 208, 0.46145851,   1), (219, 114, 0.54995842,   1),\n",
       "       (216,  98, 0.46257888,   1), (216, 117, 0.46257888,   1),\n",
       "       (219, 173, 0.56383856,   1), (216,  69, 0.46257888,   1),\n",
       "       (219,  35, 0.59063358,   1), (216,  99, 0.46328639,   1),\n",
       "       (216,  11, 0.46328639,   1), (219, 199, 0.59933858,   1),\n",
       "       (216, 207, 0.46923311,   1), (219, 125, 0.59996519,   1),\n",
       "       (216, 209, 0.49343553,   1), (219,   9, 0.6071175 ,   1),\n",
       "       (219, 198, 0.6071175 ,   1), (219, 152, 0.6071175 ,   1),\n",
       "       (219, 136, 0.6071175 ,   1), (219,   1, 0.6071175 ,   1),\n",
       "       (219,  46, 0.6071175 ,   1), (216,  88, 0.49445206,   1),\n",
       "       (216, 153, 0.49445206,   1), (216,  50, 0.49445206,   1),\n",
       "       (216, 176, 0.49728093,   1), (216, 220, 0.49810405,   9),\n",
       "       (216, 221, 0.49810405,   7), (220,  85, 0.49810405,   1),\n",
       "       (221, 116, 0.49810405,   1), (220,  84, 0.50473594,   1),\n",
       "       (221,  81, 0.50437576,   1), (221,  68, 0.50437576,   1),\n",
       "       (221, 122, 0.50437576,   1), (221, 171, 0.50437576,   1),\n",
       "       (221,  27, 0.50437576,   1), (221, 170, 0.50437576,   1),\n",
       "       (220,  79, 0.52303812,   1), (220, 157, 0.52824136,   1),\n",
       "       (220,  54, 0.52824136,   1), (220, 160, 0.52824136,   1),\n",
       "       (220, 201, 0.52824136,   1), (220, 130, 0.52824136,   1),\n",
       "       (220,  52, 0.52824136,   1)],\n",
       "      dtype=[('parent', '<i8'), ('child', '<i8'), ('lambda_val', '<f8'), ('child_size', '<i8')])"
      ]
     },
     "execution_count": 24,
     "metadata": {},
     "output_type": "execute_result"
    }
   ],
   "source": [
    "clusterer.condensed_tree_.to_numpy()\n"
   ]
  },
  {
   "cell_type": "code",
   "execution_count": 25,
   "metadata": {},
   "outputs": [
    {
     "data": {
      "text/plain": [
       "array([-1,  4,  3,  4,  2, -1,  2,  3, -1,  4,  4,  2,  0,  4, -1,  0, -1,\n",
       "        4,  3, -1,  2,  0, -1,  2, -1, -1,  0,  2,  0,  0, -1,  0, -1,  1,\n",
       "       -1,  4,  1,  2, -1,  4,  1, -1, -1, -1, -1,  4,  4, -1, -1,  4,  2,\n",
       "       -1,  2, -1,  2,  2, -1, -1, -1, -1,  2,  1, -1,  4, -1,  2,  2, -1,\n",
       "        2,  2, -1, -1,  2, -1, -1,  4, -1, -1, -1,  2,  4,  2, -1, -1,  2,\n",
       "        2, -1, -1,  2, -1,  0, -1, -1,  2, -1, -1,  2, -1,  2,  2,  3, -1,\n",
       "        2, -1, -1,  2, -1,  1,  0, -1,  0,  3, -1, -1,  4, -1,  2,  2,  2,\n",
       "        3,  2, -1,  2,  2,  1,  4, -1, -1,  2, -1,  2, -1,  4,  1, -1,  2,\n",
       "        4,  0, -1,  0,  4, -1, -1,  0,  4,  0, -1, -1, -1,  2, -1, -1,  4,\n",
       "        2,  2, -1,  2,  2, -1, -1,  2,  2, -1, -1,  0,  4,  0,  3, -1,  4,\n",
       "        2,  2, -1,  4, -1, -1,  2, -1, -1,  4,  2,  4,  0, -1,  4, -1, -1,\n",
       "       -1, -1,  2,  4, -1, -1,  4,  0,  0,  0,  0,  4,  4,  2,  2, -1, -1,\n",
       "       -1,  0, -1,  2,  2,  2,  4])"
      ]
     },
     "execution_count": 25,
     "metadata": {},
     "output_type": "execute_result"
    }
   ],
   "source": [
    "clusterer.labels_\n"
   ]
  },
  {
   "cell_type": "code",
   "execution_count": 26,
   "metadata": {},
   "outputs": [
    {
     "data": {
      "text/plain": [
       "array([-1,  0,  1,  2,  3,  4])"
      ]
     },
     "execution_count": 26,
     "metadata": {},
     "output_type": "execute_result"
    }
   ],
   "source": [
    "np.unique(clusterer.labels_)"
   ]
  },
  {
   "cell_type": "markdown",
   "metadata": {},
   "source": [
    "# test new cluster size "
   ]
  },
  {
   "cell_type": "code",
   "execution_count": 65,
   "metadata": {},
   "outputs": [
    {
     "data": {
      "text/plain": [
       "<matplotlib.collections.PathCollection at 0x7f59a79c7990>"
      ]
     },
     "execution_count": 65,
     "metadata": {},
     "output_type": "execute_result"
    },
    {
     "data": {
      "image/png": "[encoded data removed]",
      "text/plain": [
       "<Figure size 432x288 with 1 Axes>"
      ]
     },
     "metadata": {
      "needs_background": "light"
     },
     "output_type": "display_data"
    }
   ],
   "source": [
    "# good set of values 6,6\n",
    "clusterer = hdbscan.HDBSCAN(min_cluster_size=6,min_samples=6).fit(data)\n",
    "color_palette = sns.color_palette('deep', 8)\n",
    "cluster_colors = [color_palette[x] if x >= 0\n",
    "                  else (0.5, 0.5, 0.5)\n",
    "                  for x in clusterer.labels_]\n",
    "cluster_member_colors = [sns.desaturate(x, p) for x, p in\n",
    "                         zip(cluster_colors, clusterer.probabilities_)]\n",
    "plt.scatter(*data.T, s=50, linewidth=0, c=cluster_member_colors, alpha=0.25)"
   ]
  },
  {
   "cell_type": "code",
   "execution_count": 66,
   "metadata": {},
   "outputs": [
    {
     "data": {
      "text/plain": [
       "array([-1,  4,  3,  4,  2, -1,  2,  3, -1,  4,  4,  2,  0,  4, -1,  0, -1,\n",
       "        4,  3, -1,  2,  0, -1,  2, -1, -1,  0,  2,  0,  0, -1,  0, -1,  1,\n",
       "       -1,  4,  1,  2, -1,  4,  1, -1, -1, -1, -1,  4,  4, -1, -1,  4,  2,\n",
       "       -1,  2, -1,  2,  2, -1, -1, -1, -1,  2,  1, -1,  4, -1,  2,  2, -1,\n",
       "        2,  2, -1, -1,  2, -1, -1,  4, -1, -1, -1,  2,  4,  2, -1, -1,  2,\n",
       "        2, -1, -1,  2, -1,  0, -1, -1,  2, -1, -1,  2, -1,  2,  2,  3, -1,\n",
       "        2, -1, -1,  2, -1,  1,  0, -1,  0,  3, -1, -1,  4, -1,  2,  2,  2,\n",
       "        3,  2, -1,  2,  2,  1,  4, -1, -1,  2, -1,  2, -1,  4,  1, -1,  2,\n",
       "        4,  0, -1,  0,  4, -1, -1,  0,  4,  0, -1, -1, -1,  2, -1, -1,  4,\n",
       "        2,  2, -1,  2,  2, -1, -1,  2,  2, -1, -1,  0,  4,  0,  3, -1,  4,\n",
       "        2,  2, -1,  4, -1, -1,  2, -1, -1,  4,  2,  4,  0, -1,  4, -1, -1,\n",
       "       -1, -1,  2,  4, -1, -1,  4,  0,  0,  0,  0,  4,  4,  2,  2, -1, -1,\n",
       "       -1,  0, -1,  2,  2,  2,  4])"
      ]
     },
     "execution_count": 66,
     "metadata": {},
     "output_type": "execute_result"
    }
   ],
   "source": [
    "clusterer.labels_"
   ]
  },
  {
   "cell_type": "code",
   "execution_count": 67,
   "metadata": {},
   "outputs": [
    {
     "name": "stdout",
     "output_type": "stream",
     "text": [
      "the number of uniqe clusters: [-1  0  1  2  3  4]\n",
      "the length of cluster prediction:  211\n"
     ]
    }
   ],
   "source": [
    "print('the number of uniqe clusters:',np.unique(clusterer.labels_))\n",
    "print('the length of cluster prediction: ',len (clusterer.labels_))"
   ]
  },
  {
   "cell_type": "markdown",
   "metadata": {},
   "source": [
    "# Move files according to clusters "
   ]
  },
  {
   "cell_type": "code",
   "execution_count": 68,
   "metadata": {},
   "outputs": [],
   "source": [
    "import os\n",
    "import shutil\n",
    "import csv\n",
    "import sys\n",
    "import pandas as pd\n",
    "current = os.getcwd()\n",
    "\n",
    "# os.mkdir('./HDBSCAN_clusters')"
   ]
  },
  {
   "cell_type": "code",
   "execution_count": 69,
   "metadata": {},
   "outputs": [
    {
     "name": "stdout",
     "output_type": "stream",
     "text": [
      "the length of image list:  211\n"
     ]
    },
    {
     "data": {
      "text/html": [
       "<div>\n",
       "<style scoped>\n",
       "    .dataframe tbody tr th:only-of-type {\n",
       "        vertical-align: middle;\n",
       "    }\n",
       "\n",
       "    .dataframe tbody tr th {\n",
       "        vertical-align: top;\n",
       "    }\n",
       "\n",
       "    .dataframe thead th {\n",
       "        text-align: right;\n",
       "    }\n",
       "</style>\n",
       "<table border=\"1\" class=\"dataframe\">\n",
       "  <thead>\n",
       "    <tr style=\"text-align: right;\">\n",
       "      <th></th>\n",
       "      <th>ID</th>\n",
       "    </tr>\n",
       "  </thead>\n",
       "  <tbody>\n",
       "    <tr>\n",
       "      <th>0</th>\n",
       "      <td>one_42.jpg-1.jpg-1.jpg</td>\n",
       "    </tr>\n",
       "    <tr>\n",
       "      <th>1</th>\n",
       "      <td>20201116-131916IMG_1335-1.jpg</td>\n",
       "    </tr>\n",
       "    <tr>\n",
       "      <th>2</th>\n",
       "      <td>20201116-132319IMG_1387-1.jpg</td>\n",
       "    </tr>\n",
       "    <tr>\n",
       "      <th>3</th>\n",
       "      <td>20201116-121847IMG_9587-1.jpg</td>\n",
       "    </tr>\n",
       "    <tr>\n",
       "      <th>4</th>\n",
       "      <td>20201116-143348_DSC0072-1.jpg</td>\n",
       "    </tr>\n",
       "  </tbody>\n",
       "</table>\n",
       "</div>"
      ],
      "text/plain": [
       "                              ID\n",
       "0         one_42.jpg-1.jpg-1.jpg\n",
       "1  20201116-131916IMG_1335-1.jpg\n",
       "2  20201116-132319IMG_1387-1.jpg\n",
       "3  20201116-121847IMG_9587-1.jpg\n",
       "4  20201116-143348_DSC0072-1.jpg"
      ]
     },
     "execution_count": 69,
     "metadata": {},
     "output_type": "execute_result"
    }
   ],
   "source": [
    "col_list = [\"ID\"]\n",
    "image_data_list = pd.read_csv('tsne-reduced.csv', usecols=col_list)\n",
    "print('the length of image list: ',len(image_data_list))\n",
    "image_data_list.head()"
   ]
  },
  {
   "cell_type": "code",
   "execution_count": 71,
   "metadata": {},
   "outputs": [
    {
     "name": "stdout",
     "output_type": "stream",
     "text": [
      "type source: <class 'list'> type destintaion:  <class 'list'>\n",
      "./images/one_42.jpg-1.jpg-1.jpg  ->  ./HDBSCAN_clusters/-1\n",
      "./images/20201116-131916IMG_1335-1.jpg  ->  ./HDBSCAN_clusters/4\n",
      "./images/20201116-132319IMG_1387-1.jpg  ->  ./HDBSCAN_clusters/3\n",
      "./images/20201116-121847IMG_9587-1.jpg  ->  ./HDBSCAN_clusters/4\n",
      "./images/20201116-143348_DSC0072-1.jpg  ->  ./HDBSCAN_clusters/2\n",
      "./images/20201116-142800IMG_9078-1.jpg  ->  ./HDBSCAN_clusters/-1\n",
      "./images/one_43.jpg-1.jpg-1.jpg  ->  ./HDBSCAN_clusters/2\n",
      "./images/20201116-132431IMG_1435-1.jpg  ->  ./HDBSCAN_clusters/3\n",
      "./images/20201116-131927__DSC058-1.jpg  ->  ./HDBSCAN_clusters/-1\n",
      "./images/20201116-131927IMG_8274-1.jpg  ->  ./HDBSCAN_clusters/4\n",
      "./images/20201116-131338IMG_1129-1.jpg  ->  ./HDBSCAN_clusters/4\n",
      "./images/20201116-142738IMG_9055-1.jpg  ->  ./HDBSCAN_clusters/2\n",
      "./images/one_3.jpg-1.jpg-1.jpg  ->  ./HDBSCAN_clusters/0\n",
      "./images/20201116-131925IMG_1349-1.jpg  ->  ./HDBSCAN_clusters/4\n",
      "./images/one_33.jpg-1.jpg-1.jpg  ->  ./HDBSCAN_clusters/-1\n",
      "./images/20201116-132406DSC_9020-1.jpg  ->  ./HDBSCAN_clusters/0\n",
      "./images/20201116-135432IMG_8765-1.jpg  ->  ./HDBSCAN_clusters/-1\n",
      "./images/20201116-132357_DSC0620-1.jpg  ->  ./HDBSCAN_clusters/4\n",
      "./images/20201116-135149IMG_1718-1.jpg  ->  ./HDBSCAN_clusters/3\n",
      "./images/20201116-131848IMG_1303-2.jpg  ->  ./HDBSCAN_clusters/-1\n",
      "./images/20201116-143537DSC_9330-2.jpg  ->  ./HDBSCAN_clusters/2\n",
      "./images/one_15.jpg-1.jpg-1.jpg  ->  ./HDBSCAN_clusters/0\n",
      "./images/20201116-131905__DSC056-1.jpg  ->  ./HDBSCAN_clusters/-1\n",
      "./images/20201116-143152IMG_9143-1.jpg  ->  ./HDBSCAN_clusters/2\n",
      "./images/one_11.jpg-1.jpg-1.jpg  ->  ./HDBSCAN_clusters/-1\n",
      "./images/one_45.jpg-1.jpg-1.jpg  ->  ./HDBSCAN_clusters/-1\n",
      "./images/one_38.jpg-1.jpg-1.jpg  ->  ./HDBSCAN_clusters/0\n",
      "./images/20201116-135034__DSC082-1.jpg  ->  ./HDBSCAN_clusters/2\n",
      "./images/one_35.jpg-1.jpg-1.jpg  ->  ./HDBSCAN_clusters/0\n",
      "./images/one_7.jpg-1.jpg-1.jpg  ->  ./HDBSCAN_clusters/0\n",
      "./images/20201116-132752IMG_1528-2.jpg  ->  ./HDBSCAN_clusters/-1\n",
      "./images/one_18.jpg-1.jpg-1.jpg  ->  ./HDBSCAN_clusters/0\n",
      "./images/20201116-121830IMG_8002-1.jpg  ->  ./HDBSCAN_clusters/-1\n",
      "./images/20201116-142743IMG_1999-1.jpg  ->  ./HDBSCAN_clusters/1\n",
      "./images/20201116-142754DSC_9259-1.jpg  ->  ./HDBSCAN_clusters/-1\n",
      "./images/20201116-131602IMG_1256-1.jpg  ->  ./HDBSCAN_clusters/4\n",
      "./images/20201116-142754_DSC0008-1.jpg  ->  ./HDBSCAN_clusters/1\n",
      "./images/20201116-134222_DSC0776-1.jpg  ->  ./HDBSCAN_clusters/2\n",
      "./images/20201116-131536__DSC050-1.jpg  ->  ./HDBSCAN_clusters/-1\n",
      "./images/20201116-123757IMG_0766-1.jpg  ->  ./HDBSCAN_clusters/4\n",
      "./images/20201116-142935DSC_9290-1.jpg  ->  ./HDBSCAN_clusters/1\n",
      "./images/20201116-135719DSC_9150-1.jpg  ->  ./HDBSCAN_clusters/-1\n",
      "./images/one_36.jpg-1.jpg-1.jpg  ->  ./HDBSCAN_clusters/-1\n",
      "./images/20201116-132135_DSC0598-1.jpg  ->  ./HDBSCAN_clusters/-1\n",
      "./images/20201116-132133IMG_1369-1.jpg  ->  ./HDBSCAN_clusters/-1\n",
      "./images/20201116-134954IMG_8655-1.jpg  ->  ./HDBSCAN_clusters/4\n",
      "./images/20201116-131831IMG_8238-1.jpg  ->  ./HDBSCAN_clusters/4\n",
      "./images/20201116-142738DSC_9241-3.jpg  ->  ./HDBSCAN_clusters/-1\n",
      "./images/20201116-143343IMG_9160-2.jpg  ->  ./HDBSCAN_clusters/-1\n",
      "./images/20201116-131533IMG_1231-1.jpg  ->  ./HDBSCAN_clusters/4\n",
      "./images/20201116-143519IMG_2152-1.jpg  ->  ./HDBSCAN_clusters/2\n",
      "./images/20201116-143344DSC_9317-2.jpg  ->  ./HDBSCAN_clusters/-1\n",
      "./images/20201116-142745_DSC0003-1.jpg  ->  ./HDBSCAN_clusters/2\n",
      "./images/20201116-142738DSC_9241-2.jpg  ->  ./HDBSCAN_clusters/-1\n",
      "./images/20201116-142727_DSC0990-1.jpg  ->  ./HDBSCAN_clusters/2\n",
      "./images/20201116-143343IMG_9160-1.jpg  ->  ./HDBSCAN_clusters/2\n",
      "./images/20201116-123847DSC_8738-1.jpg  ->  ./HDBSCAN_clusters/-1\n",
      "./images/20201116-143722IMG_8917-1.jpg  ->  ./HDBSCAN_clusters/-1\n",
      "./images/one_48.jpg-1.jpg-1.jpg  ->  ./HDBSCAN_clusters/-1\n",
      "./images/20201116-142738IMG_9051-1.jpg  ->  ./HDBSCAN_clusters/-1\n",
      "./images/20201116-143344__DSC007-1.jpg  ->  ./HDBSCAN_clusters/2\n",
      "./images/20201116-142801__DSC001-1.jpg  ->  ./HDBSCAN_clusters/1\n",
      "./images/one_16.jpg-1.jpg-1.jpg  ->  ./HDBSCAN_clusters/-1\n",
      "./images/20201116-121847__DSC017-1.jpg  ->  ./HDBSCAN_clusters/4\n",
      "./images/one_49.jpg-1.jpg-1.jpg  ->  ./HDBSCAN_clusters/-1\n",
      "./images/20201116-134708_DSC0781-1.jpg  ->  ./HDBSCAN_clusters/2\n",
      "./images/one_34.jpg-1.jpg-1.jpg  ->  ./HDBSCAN_clusters/2\n",
      "./images/one_3.jpg-3.jpg-1.jpg  ->  ./HDBSCAN_clusters/-1\n",
      "./images/20201116-135043__DSC082-1.jpg  ->  ./HDBSCAN_clusters/2\n",
      "./images/20201116-142933IMG_2077-1.jpg  ->  ./HDBSCAN_clusters/2\n",
      "./images/20201116-131410IMG_1156-1.jpg  ->  ./HDBSCAN_clusters/-1\n",
      "./images/20201116-121837__DSC016-1.jpg  ->  ./HDBSCAN_clusters/-1\n",
      "./images/20201116-123841__DSC032-1.jpg  ->  ./HDBSCAN_clusters/2\n",
      "./images/20201116-143804IMG_2207-1.jpg  ->  ./HDBSCAN_clusters/-1\n",
      "./images/20201116-143344__DSC006-1.jpg  ->  ./HDBSCAN_clusters/-1\n",
      "./images/20201116-131605DSC_8954-1.jpg  ->  ./HDBSCAN_clusters/4\n",
      "./images/20201116-131850__DSC055-1.jpg  ->  ./HDBSCAN_clusters/-1\n",
      "./images/20201116-132752IMG_1528-1.jpg  ->  ./HDBSCAN_clusters/-1\n",
      "./images/20201116-131919_DSC0573-1.jpg  ->  ./HDBSCAN_clusters/-1\n",
      "./images/20201116-142923DSC_9285-1.jpg  ->  ./HDBSCAN_clusters/2\n",
      "./images/20201116-123847_DSC0332-1.jpg  ->  ./HDBSCAN_clusters/4\n",
      "./images/20201116-135043_DSC0828-1.jpg  ->  ./HDBSCAN_clusters/2\n",
      "./images/20201116-123318__DSC026-1.jpg  ->  ./HDBSCAN_clusters/-1\n",
      "./images/one_44.jpg-1.jpg-1.jpg  ->  ./HDBSCAN_clusters/-1\n",
      "./images/20201116-142921IMG_2064-1.jpg  ->  ./HDBSCAN_clusters/2\n",
      "./images/20201116-142942_DSC0037-1.jpg  ->  ./HDBSCAN_clusters/2\n",
      "./images/20201116-132419IMG_8536-1.jpg  ->  ./HDBSCAN_clusters/-1\n",
      "./images/20201116-121847DSC_8480-1.jpg  ->  ./HDBSCAN_clusters/-1\n",
      "./images/20201116-144009IMG_9264-1.jpg  ->  ./HDBSCAN_clusters/2\n",
      "./images/one_41.jpg-1.jpg-1.jpg  ->  ./HDBSCAN_clusters/-1\n",
      "./images/one_8.jpg-1.jpg-3.jpg  ->  ./HDBSCAN_clusters/0\n",
      "./images/20201116-143537_DSC0092-1.jpg  ->  ./HDBSCAN_clusters/-1\n",
      "./images/20201116-143537_DSC0092-2.jpg  ->  ./HDBSCAN_clusters/-1\n",
      "./images/20201116-143344__DSC006-2.jpg  ->  ./HDBSCAN_clusters/2\n",
      "./images/20201116-131912IMG_8509-1.jpg  ->  ./HDBSCAN_clusters/-1\n",
      "./images/20201116-142738__DSC099-2.jpg  ->  ./HDBSCAN_clusters/-1\n",
      "./images/20201116-143537IMG_9197-2.jpg  ->  ./HDBSCAN_clusters/2\n",
      "./images/20201116-131319IMG_1111-1.jpg  ->  ./HDBSCAN_clusters/-1\n",
      "./images/20201116-142738DSC_9245-1.jpg  ->  ./HDBSCAN_clusters/2\n",
      "./images/20201116-143524IMG_9186-1.jpg  ->  ./HDBSCAN_clusters/2\n",
      "./images/20201116-132208IMG_8520-1.jpg  ->  ./HDBSCAN_clusters/3\n",
      "./images/one_21.jpg-1.jpg-2.jpg  ->  ./HDBSCAN_clusters/-1\n",
      "./images/20201116-143758IMG_9236-1.jpg  ->  ./HDBSCAN_clusters/2\n",
      "./images/20201116-131412DSC_8899-1.jpg  ->  ./HDBSCAN_clusters/-1\n",
      "./images/20201116-121932IMG_0365-1.jpg  ->  ./HDBSCAN_clusters/-1\n",
      "./images/20201116-143148__DSC005-1.jpg  ->  ./HDBSCAN_clusters/2\n",
      "./images/20201116-143343IMG_9160-3.jpg  ->  ./HDBSCAN_clusters/-1\n",
      "./images/20201116-142758IMG_2015-1.jpg  ->  ./HDBSCAN_clusters/1\n",
      "./images/one_39.jpg-1.jpg-1.jpg  ->  ./HDBSCAN_clusters/0\n",
      "./images/20201116-143922__DSC012-2.jpg  ->  ./HDBSCAN_clusters/-1\n",
      "./images/one_23.jpg-1.jpg-1.jpg  ->  ./HDBSCAN_clusters/0\n",
      "./images/20201116-131436IMG_8137-1.jpg  ->  ./HDBSCAN_clusters/3\n",
      "./images/20201116-143537DSC_9330-1.jpg  ->  ./HDBSCAN_clusters/-1\n",
      "./images/20201116-134011DSC_9102-1.jpg  ->  ./HDBSCAN_clusters/-1\n",
      "./images/20201116-131848IMG_1303-1.jpg  ->  ./HDBSCAN_clusters/4\n",
      "./images/20201116-142754__DSC000-1.jpg  ->  ./HDBSCAN_clusters/-1\n",
      "./images/20201116-143542__DSC009-1.jpg  ->  ./HDBSCAN_clusters/2\n",
      "./images/20201116-143537IMG_9197-3.jpg  ->  ./HDBSCAN_clusters/2\n",
      "./images/20201116-142738__DSC099-1.jpg  ->  ./HDBSCAN_clusters/2\n",
      "./images/20201116-131406IMG_8417-1.jpg  ->  ./HDBSCAN_clusters/3\n",
      "./images/20201116-134708__DSC078-1.jpg  ->  ./HDBSCAN_clusters/2\n",
      "./images/one_1.jpg-1.jpg-1.jpg  ->  ./HDBSCAN_clusters/-1\n",
      "./images/20201116-135001__DSC081-1.jpg  ->  ./HDBSCAN_clusters/2\n",
      "./images/20201116-143148__DSC005-2.jpg  ->  ./HDBSCAN_clusters/2\n",
      "./images/20201116-142738DSC_9241-1.jpg  ->  ./HDBSCAN_clusters/1\n",
      "./images/20201116-131902IMG_1318-1.jpg  ->  ./HDBSCAN_clusters/4\n",
      "./images/one_25.jpg-1.jpg-1.jpg  ->  ./HDBSCAN_clusters/-1\n",
      "./images/20201116-142738IMG_9051-2.jpg  ->  ./HDBSCAN_clusters/-1\n",
      "./images/20201116-134223__DSC077-1.jpg  ->  ./HDBSCAN_clusters/2\n",
      "./images/20201116-131459IMG_8148-1.jpg  ->  ./HDBSCAN_clusters/-1\n",
      "./images/20201116-142942DSC_9299-1.jpg  ->  ./HDBSCAN_clusters/2\n",
      "./images/20201116-143807__DSC011-2.jpg  ->  ./HDBSCAN_clusters/-1\n",
      "./images/20201116-121837_DSC0168-1.jpg  ->  ./HDBSCAN_clusters/4\n",
      "./images/20201116-143516IMG_8877-1.jpg  ->  ./HDBSCAN_clusters/1\n",
      "./images/20201116-142738__DSC099-3.jpg  ->  ./HDBSCAN_clusters/-1\n",
      "./images/20201116-143344DSC_9317-3.jpg  ->  ./HDBSCAN_clusters/2\n",
      "./images/20201116-131850IMG_8245-1.jpg  ->  ./HDBSCAN_clusters/4\n",
      "./images/one_0.jpg-1.jpg-1.jpg  ->  ./HDBSCAN_clusters/0\n",
      "./images/one_5.jpg-1.jpg-1.jpg  ->  ./HDBSCAN_clusters/-1\n",
      "./images/one_28.jpg-1.jpg-1.jpg  ->  ./HDBSCAN_clusters/0\n",
      "./images/20201116-121834IMG_0326-1.jpg  ->  ./HDBSCAN_clusters/4\n",
      "./images/20201116-143807__DSC011-1.jpg  ->  ./HDBSCAN_clusters/-1\n",
      "./images/20201116-123847__DSC033-1.jpg  ->  ./HDBSCAN_clusters/-1\n",
      "./images/one_47.jpg-1.jpg-1.jpg  ->  ./HDBSCAN_clusters/0\n",
      "./images/20201116-131918IMG_8261-1.jpg  ->  ./HDBSCAN_clusters/4\n",
      "./images/one_32.jpg-1.jpg-1.jpg  ->  ./HDBSCAN_clusters/0\n",
      "./images/one_40.jpg-1.jpg-1.jpg  ->  ./HDBSCAN_clusters/-1\n",
      "./images/20201116-121847_DSC0178-1.jpg  ->  ./HDBSCAN_clusters/-1\n",
      "./images/20201116-143922__DSC012-1.jpg  ->  ./HDBSCAN_clusters/-1\n",
      "./images/20201116-142727__DSC099-1.jpg  ->  ./HDBSCAN_clusters/2\n",
      "./images/20201116-142739__DSC099-1.jpg  ->  ./HDBSCAN_clusters/-1\n",
      "./images/20201116-131341DSC_8880-1.jpg  ->  ./HDBSCAN_clusters/-1\n",
      "./images/20201116-131427IMG_1176-1.jpg  ->  ./HDBSCAN_clusters/4\n",
      "./images/20201116-143505__DSC007-1.jpg  ->  ./HDBSCAN_clusters/2\n",
      "./images/20201116-143707__DSC010-1.jpg  ->  ./HDBSCAN_clusters/2\n",
      "./images/20201116-131918__DSC057-1.jpg  ->  ./HDBSCAN_clusters/-1\n",
      "./images/20201116-135002IMG_8661-1.jpg  ->  ./HDBSCAN_clusters/2\n",
      "./images/20201116-142850IMG_2027-1.jpg  ->  ./HDBSCAN_clusters/2\n",
      "./images/20201116-131434IMG_1188-1.jpg  ->  ./HDBSCAN_clusters/-1\n",
      "./images/20201116-141643_DSC0966-1.jpg  ->  ./HDBSCAN_clusters/-1\n",
      "./images/20201116-142745DSC_9253-1.jpg  ->  ./HDBSCAN_clusters/2\n",
      "./images/20201116-143537IMG_9197-1.jpg  ->  ./HDBSCAN_clusters/2\n",
      "./images/20201116-131549__DSC051-1.jpg  ->  ./HDBSCAN_clusters/-1\n",
      "./images/one_26.jpg-1.jpg-1.jpg  ->  ./HDBSCAN_clusters/-1\n",
      "./images/one_31.jpg-1.jpg-1.jpg  ->  ./HDBSCAN_clusters/0\n",
      "./images/20201116-131340IMG_8098-1.jpg  ->  ./HDBSCAN_clusters/4\n",
      "./images/one_13.jpg-1.jpg-1.jpg  ->  ./HDBSCAN_clusters/0\n",
      "./images/20201116-132422IMG_1423-1.jpg  ->  ./HDBSCAN_clusters/3\n",
      "./images/one_29.jpg-1.jpg-1.jpg  ->  ./HDBSCAN_clusters/-1\n",
      "./images/20201116-131851_DSC0554-1.jpg  ->  ./HDBSCAN_clusters/4\n",
      "./images/20201116-135001_DSC0816-1.jpg  ->  ./HDBSCAN_clusters/2\n",
      "./images/20201116-143349__DSC007-1.jpg  ->  ./HDBSCAN_clusters/2\n",
      "./images/one_16.jpg-2.jpg-1.jpg  ->  ./HDBSCAN_clusters/-1\n",
      "./images/20201116-135152DSC_9135-1.jpg  ->  ./HDBSCAN_clusters/4\n",
      "./images/20201116-131549IMG_8174-1.jpg  ->  ./HDBSCAN_clusters/-1\n",
      "./images/one_22.jpg-1.jpg-1.jpg  ->  ./HDBSCAN_clusters/-1\n",
      "./images/20201116-142909IMG_2038-1.jpg  ->  ./HDBSCAN_clusters/2\n",
      "./images/20201116-142727IMG_9047-1.jpg  ->  ./HDBSCAN_clusters/-1\n",
      "./images/20201116-134955IMG_8665-1.jpg  ->  ./HDBSCAN_clusters/-1\n",
      "./images/20201116-121837IMG_9564-1.jpg  ->  ./HDBSCAN_clusters/4\n",
      "./images/20201116-143541__DSC009-1.jpg  ->  ./HDBSCAN_clusters/2\n",
      "./images/20201116-121928IMG_8044-1.jpg  ->  ./HDBSCAN_clusters/4\n",
      "./images/one_20.jpg-1.jpg-1.jpg  ->  ./HDBSCAN_clusters/0\n",
      "./images/20201116-143922__DSC012-3.jpg  ->  ./HDBSCAN_clusters/-1\n",
      "./images/20201116-123844IMG_0806-1.jpg  ->  ./HDBSCAN_clusters/4\n",
      "./images/20201116-143344DSC_9317-1.jpg  ->  ./HDBSCAN_clusters/-1\n",
      "./images/20201116-121934IMG_7569-1.jpg  ->  ./HDBSCAN_clusters/-1\n",
      "./images/20201116-121836IMG_7551-1.jpg  ->  ./HDBSCAN_clusters/-1\n",
      "./images/20201116-142800_DSC0015-1.jpg  ->  ./HDBSCAN_clusters/-1\n",
      "./images/20201116-143521IMG_9181-1.jpg  ->  ./HDBSCAN_clusters/2\n",
      "./images/20201116-123847IMG_7869-1.jpg  ->  ./HDBSCAN_clusters/4\n",
      "./images/20201116-142738IMG_9051-4.jpg  ->  ./HDBSCAN_clusters/-1\n",
      "./images/one_46.jpg-2.jpg-1.jpg  ->  ./HDBSCAN_clusters/-1\n",
      "./images/20201116-121934IMG_9592-1.jpg  ->  ./HDBSCAN_clusters/4\n",
      "./images/one_24.jpg-1.jpg-1.jpg  ->  ./HDBSCAN_clusters/0\n",
      "./images/one_37.jpg-1.jpg-1.jpg  ->  ./HDBSCAN_clusters/0\n",
      "./images/one_14.jpg-1.jpg-1.jpg  ->  ./HDBSCAN_clusters/0\n",
      "./images/one_21.jpg-1.jpg-1.jpg  ->  ./HDBSCAN_clusters/0\n",
      "./images/20201116-131904IMG_8255-1.jpg  ->  ./HDBSCAN_clusters/4\n",
      "./images/20201116-131547IMG_1244-1.jpg  ->  ./HDBSCAN_clusters/4\n",
      "./images/20201116-135554IMG_8779-1.jpg  ->  ./HDBSCAN_clusters/2\n",
      "./images/20201116-143348DSC_9323-1.jpg  ->  ./HDBSCAN_clusters/2\n",
      "./images/20201116-123840__DSC032-1.jpg  ->  ./HDBSCAN_clusters/-1\n",
      "./images/20201116-135713IMG_8734-1.jpg  ->  ./HDBSCAN_clusters/-1\n",
      "./images/20201116-143804IMG_2207-2.jpg  ->  ./HDBSCAN_clusters/-1\n",
      "./images/one_10.jpg-1.jpg-1.jpg  ->  ./HDBSCAN_clusters/0\n",
      "./images/one_8.jpg-1.jpg-1.jpg  ->  ./HDBSCAN_clusters/-1\n",
      "./images/20201116-142745IMG_9061-1.jpg  ->  ./HDBSCAN_clusters/2\n",
      "./images/20201116-135041IMG_1697-1.jpg  ->  ./HDBSCAN_clusters/2\n",
      "./images/20201116-142952_DSC0042-1.jpg  ->  ./HDBSCAN_clusters/2\n",
      "./images/one_2.jpg-1.jpg-1.jpg  ->  ./HDBSCAN_clusters/4\n"
     ]
    }
   ],
   "source": [
    "current = os.getcwd()\n",
    "for clusters in np.unique(clusterer.labels_):\n",
    "    folder = str(clusters)\n",
    "    os.mkdir('./HDBSCAN_clusters/'+folder)\n",
    "#     print('./HDBSCAN_clusters/'+folder)\n",
    "\n",
    "source = image_data_list.values.tolist()\n",
    "destintaion= clusterer.labels_.tolist()\n",
    "print('type source:',type(source),\"type destintaion: \",type(destintaion))\n",
    "destintaion_path = './HDBSCAN_clusters/'\n",
    "\n",
    "# moving files to clusters \n",
    "\n",
    "for i in range(len(source)):\n",
    "    s = './images/'+str(source[i][0])\n",
    "    d = './HDBSCAN_clusters/'+str(destintaion[i])\n",
    "    print(s , ' -> ' ,d)\n",
    "    shutil.copy(s,d)\n",
    "\n"
   ]
  },
  {
   "cell_type": "code",
   "execution_count": null,
   "metadata": {},
   "outputs": [],
   "source": []
  },
  {
   "cell_type": "markdown",
   "metadata": {},
   "source": [
    "# HDB SCAN module testing "
   ]
  },
  {
   "cell_type": "code",
   "execution_count": 14,
   "metadata": {},
   "outputs": [
    {
     "ename": "AttributeError",
     "evalue": "module 'hdbscan' has no attribute 'HDBSCAN'",
     "output_type": "error",
     "traceback": [
      "\u001b[0;31m---------------------------------------------------------------------------\u001b[0m",
      "\u001b[0;31mAttributeError\u001b[0m                            Traceback (most recent call last)",
      "\u001b[0;32m<ipython-input-14-793b16bbb6c0>\u001b[0m in \u001b[0;36m<module>\u001b[0;34m\u001b[0m\n\u001b[1;32m      3\u001b[0m \u001b[0mdata\u001b[0m\u001b[0;34m,\u001b[0m \u001b[0m_\u001b[0m \u001b[0;34m=\u001b[0m \u001b[0mmake_blobs\u001b[0m\u001b[0;34m(\u001b[0m\u001b[0;36m1000\u001b[0m\u001b[0;34m)\u001b[0m\u001b[0;34m\u001b[0m\u001b[0;34m\u001b[0m\u001b[0m\n\u001b[1;32m      4\u001b[0m \u001b[0;34m\u001b[0m\u001b[0m\n\u001b[0;32m----> 5\u001b[0;31m \u001b[0mclusterer\u001b[0m \u001b[0;34m=\u001b[0m \u001b[0mhdbscan\u001b[0m\u001b[0;34m.\u001b[0m\u001b[0mHDBSCAN\u001b[0m\u001b[0;34m(\u001b[0m\u001b[0mmin_cluster_size\u001b[0m\u001b[0;34m=\u001b[0m\u001b[0;36m10\u001b[0m\u001b[0;34m)\u001b[0m\u001b[0;34m\u001b[0m\u001b[0;34m\u001b[0m\u001b[0m\n\u001b[0m\u001b[1;32m      6\u001b[0m \u001b[0mcluster_labels\u001b[0m \u001b[0;34m=\u001b[0m \u001b[0mclusterer\u001b[0m\u001b[0;34m.\u001b[0m\u001b[0mfit_predict\u001b[0m\u001b[0;34m(\u001b[0m\u001b[0mdata\u001b[0m\u001b[0;34m)\u001b[0m\u001b[0;34m\u001b[0m\u001b[0;34m\u001b[0m\u001b[0m\n",
      "\u001b[0;31mAttributeError\u001b[0m: module 'hdbscan' has no attribute 'HDBSCAN'"
     ]
    }
   ],
   "source": [
    "from sklearn.datasets import make_blobs\n",
    "\n",
    "data, _ = make_blobs(1000)\n",
    "\n",
    "clusterer = hdbscan.HDBSCAN(min_cluster_size=10)\n",
    "cluster_labels = clusterer.fit_predict(data)\n"
   ]
  },
  {
   "cell_type": "code",
   "execution_count": null,
   "metadata": {},
   "outputs": [],
   "source": []
  }
 ],
 "metadata": {
  "kernelspec": {
   "display_name": "Python 3",
   "language": "python",
   "name": "python3"
  },
  "language_info": {
   "codemirror_mode": {
    "name": "ipython",
    "version": 3
   },
   "file_extension": ".py",
   "mimetype": "text/x-python",
   "name": "python",
   "nbconvert_exporter": "python",
   "pygments_lexer": "ipython3",
   "version": "3.7.6"
  }
 },
 "nbformat": 4,
 "nbformat_minor": 4
}
